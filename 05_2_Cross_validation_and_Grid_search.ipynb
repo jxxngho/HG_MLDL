{
  "nbformat": 4,
  "nbformat_minor": 0,
  "metadata": {
    "colab": {
      "provenance": [],
      "authorship_tag": "ABX9TyPt6aXn8PO32x6MbWublEvl",
      "include_colab_link": true
    },
    "kernelspec": {
      "name": "python3",
      "display_name": "Python 3"
    },
    "language_info": {
      "name": "python"
    }
  },
  "cells": [
    {
      "cell_type": "markdown",
      "metadata": {
        "id": "view-in-github",
        "colab_type": "text"
      },
      "source": [
        "<a href=\"https://colab.research.google.com/github/jxxngho/HG_MLDL/blob/main/05_2_Cross_validation_and_Grid_search.ipynb\" target=\"_parent\"><img src=\"https://colab.research.google.com/assets/colab-badge.svg\" alt=\"Open In Colab\"/></a>"
      ]
    },
    {
      "cell_type": "markdown",
      "source": [
        "# 검증 세트"
      ],
      "metadata": {
        "id": "QmAUtKMgwbf3"
      }
    },
    {
      "cell_type": "code",
      "source": [
        "# 테스트 세트를 사용하지 않으면 모델이 과대적합인지 과소적합인지 판단하기 힘들다.\n",
        "# 테스트 세트를 사용하지 않고 이를 측정하는 간단한 방법은 훈련 세트를 또 나누는 것!\n",
        "# 이를 검증 세트라고 한다.\n",
        "\n",
        "# 훈련 세트에서 모델을 훈련하고 검증 세트로 모델을 평가\n",
        "# 이런 식으로 테스트하고 싶은 매개변수를 바꿔가며 가장 좋은 모델을 고른다\n",
        "# 그다음 이 매개변수를 이용해 훈련 세트와 검증 세트를 합쳐 전체 훈련 데이터에서 모델을 다시 훈련\n",
        "# 그리고 마지막에 테스트 세트에서 최종 점수를 평가한다!!!"
      ],
      "metadata": {
        "id": "wWuxzeuBwtTI"
      },
      "execution_count": 1,
      "outputs": []
    },
    {
      "cell_type": "code",
      "source": [
        "# 데이터 불러오기\n",
        "import pandas as pd\n",
        "wine = pd.read_csv('https://bit.ly/wine_csv_data')\n",
        "wine.head()"
      ],
      "metadata": {
        "colab": {
          "base_uri": "https://localhost:8080/",
          "height": 206
        },
        "id": "6ql3QOIWxIuW",
        "outputId": "c8979fda-0cb0-4f2f-9481-089bd5ec3819"
      },
      "execution_count": 2,
      "outputs": [
        {
          "output_type": "execute_result",
          "data": {
            "text/plain": [
              "   alcohol  sugar    pH  class\n",
              "0      9.4    1.9  3.51    0.0\n",
              "1      9.8    2.6  3.20    0.0\n",
              "2      9.8    2.3  3.26    0.0\n",
              "3      9.8    1.9  3.16    0.0\n",
              "4      9.4    1.9  3.51    0.0"
            ],
            "text/html": [
              "\n",
              "  <div id=\"df-df8a75c2-58f2-434b-8bae-5d5482f6f546\">\n",
              "    <div class=\"colab-df-container\">\n",
              "      <div>\n",
              "<style scoped>\n",
              "    .dataframe tbody tr th:only-of-type {\n",
              "        vertical-align: middle;\n",
              "    }\n",
              "\n",
              "    .dataframe tbody tr th {\n",
              "        vertical-align: top;\n",
              "    }\n",
              "\n",
              "    .dataframe thead th {\n",
              "        text-align: right;\n",
              "    }\n",
              "</style>\n",
              "<table border=\"1\" class=\"dataframe\">\n",
              "  <thead>\n",
              "    <tr style=\"text-align: right;\">\n",
              "      <th></th>\n",
              "      <th>alcohol</th>\n",
              "      <th>sugar</th>\n",
              "      <th>pH</th>\n",
              "      <th>class</th>\n",
              "    </tr>\n",
              "  </thead>\n",
              "  <tbody>\n",
              "    <tr>\n",
              "      <th>0</th>\n",
              "      <td>9.4</td>\n",
              "      <td>1.9</td>\n",
              "      <td>3.51</td>\n",
              "      <td>0.0</td>\n",
              "    </tr>\n",
              "    <tr>\n",
              "      <th>1</th>\n",
              "      <td>9.8</td>\n",
              "      <td>2.6</td>\n",
              "      <td>3.20</td>\n",
              "      <td>0.0</td>\n",
              "    </tr>\n",
              "    <tr>\n",
              "      <th>2</th>\n",
              "      <td>9.8</td>\n",
              "      <td>2.3</td>\n",
              "      <td>3.26</td>\n",
              "      <td>0.0</td>\n",
              "    </tr>\n",
              "    <tr>\n",
              "      <th>3</th>\n",
              "      <td>9.8</td>\n",
              "      <td>1.9</td>\n",
              "      <td>3.16</td>\n",
              "      <td>0.0</td>\n",
              "    </tr>\n",
              "    <tr>\n",
              "      <th>4</th>\n",
              "      <td>9.4</td>\n",
              "      <td>1.9</td>\n",
              "      <td>3.51</td>\n",
              "      <td>0.0</td>\n",
              "    </tr>\n",
              "  </tbody>\n",
              "</table>\n",
              "</div>\n",
              "      <button class=\"colab-df-convert\" onclick=\"convertToInteractive('df-df8a75c2-58f2-434b-8bae-5d5482f6f546')\"\n",
              "              title=\"Convert this dataframe to an interactive table.\"\n",
              "              style=\"display:none;\">\n",
              "        \n",
              "  <svg xmlns=\"http://www.w3.org/2000/svg\" height=\"24px\"viewBox=\"0 0 24 24\"\n",
              "       width=\"24px\">\n",
              "    <path d=\"M0 0h24v24H0V0z\" fill=\"none\"/>\n",
              "    <path d=\"M18.56 5.44l.94 2.06.94-2.06 2.06-.94-2.06-.94-.94-2.06-.94 2.06-2.06.94zm-11 1L8.5 8.5l.94-2.06 2.06-.94-2.06-.94L8.5 2.5l-.94 2.06-2.06.94zm10 10l.94 2.06.94-2.06 2.06-.94-2.06-.94-.94-2.06-.94 2.06-2.06.94z\"/><path d=\"M17.41 7.96l-1.37-1.37c-.4-.4-.92-.59-1.43-.59-.52 0-1.04.2-1.43.59L10.3 9.45l-7.72 7.72c-.78.78-.78 2.05 0 2.83L4 21.41c.39.39.9.59 1.41.59.51 0 1.02-.2 1.41-.59l7.78-7.78 2.81-2.81c.8-.78.8-2.07 0-2.86zM5.41 20L4 18.59l7.72-7.72 1.47 1.35L5.41 20z\"/>\n",
              "  </svg>\n",
              "      </button>\n",
              "      \n",
              "  <style>\n",
              "    .colab-df-container {\n",
              "      display:flex;\n",
              "      flex-wrap:wrap;\n",
              "      gap: 12px;\n",
              "    }\n",
              "\n",
              "    .colab-df-convert {\n",
              "      background-color: #E8F0FE;\n",
              "      border: none;\n",
              "      border-radius: 50%;\n",
              "      cursor: pointer;\n",
              "      display: none;\n",
              "      fill: #1967D2;\n",
              "      height: 32px;\n",
              "      padding: 0 0 0 0;\n",
              "      width: 32px;\n",
              "    }\n",
              "\n",
              "    .colab-df-convert:hover {\n",
              "      background-color: #E2EBFA;\n",
              "      box-shadow: 0px 1px 2px rgba(60, 64, 67, 0.3), 0px 1px 3px 1px rgba(60, 64, 67, 0.15);\n",
              "      fill: #174EA6;\n",
              "    }\n",
              "\n",
              "    [theme=dark] .colab-df-convert {\n",
              "      background-color: #3B4455;\n",
              "      fill: #D2E3FC;\n",
              "    }\n",
              "\n",
              "    [theme=dark] .colab-df-convert:hover {\n",
              "      background-color: #434B5C;\n",
              "      box-shadow: 0px 1px 3px 1px rgba(0, 0, 0, 0.15);\n",
              "      filter: drop-shadow(0px 1px 2px rgba(0, 0, 0, 0.3));\n",
              "      fill: #FFFFFF;\n",
              "    }\n",
              "  </style>\n",
              "\n",
              "      <script>\n",
              "        const buttonEl =\n",
              "          document.querySelector('#df-df8a75c2-58f2-434b-8bae-5d5482f6f546 button.colab-df-convert');\n",
              "        buttonEl.style.display =\n",
              "          google.colab.kernel.accessAllowed ? 'block' : 'none';\n",
              "\n",
              "        async function convertToInteractive(key) {\n",
              "          const element = document.querySelector('#df-df8a75c2-58f2-434b-8bae-5d5482f6f546');\n",
              "          const dataTable =\n",
              "            await google.colab.kernel.invokeFunction('convertToInteractive',\n",
              "                                                     [key], {});\n",
              "          if (!dataTable) return;\n",
              "\n",
              "          const docLinkHtml = 'Like what you see? Visit the ' +\n",
              "            '<a target=\"_blank\" href=https://colab.research.google.com/notebooks/data_table.ipynb>data table notebook</a>'\n",
              "            + ' to learn more about interactive tables.';\n",
              "          element.innerHTML = '';\n",
              "          dataTable['output_type'] = 'display_data';\n",
              "          await google.colab.output.renderOutput(dataTable, element);\n",
              "          const docLink = document.createElement('div');\n",
              "          docLink.innerHTML = docLinkHtml;\n",
              "          element.appendChild(docLink);\n",
              "        }\n",
              "      </script>\n",
              "    </div>\n",
              "  </div>\n",
              "  "
            ]
          },
          "metadata": {},
          "execution_count": 2
        }
      ]
    },
    {
      "cell_type": "code",
      "source": [
        "data = wine[['alcohol','sugar','pH']].to_numpy()\n",
        "target = wine['class'].to_numpy()"
      ],
      "metadata": {
        "id": "mG3SehjXxO7O"
      },
      "execution_count": 3,
      "outputs": []
    },
    {
      "cell_type": "code",
      "source": [
        "# 훈련 세트와 테스트 세트로 나누기\n",
        "from sklearn.model_selection import train_test_split\n",
        "\n",
        "train_input, test_input, train_target, test_target = train_test_split(data,target, test_size=0.2, random_state=42)\n",
        "\n",
        "print(train_input.shape, test_input.shape)"
      ],
      "metadata": {
        "colab": {
          "base_uri": "https://localhost:8080/"
        },
        "id": "tTtK0UnvxaSd",
        "outputId": "26515fbd-9df1-46a3-cb1d-b9470acd9e25"
      },
      "execution_count": 4,
      "outputs": [
        {
          "output_type": "stream",
          "name": "stdout",
          "text": [
            "(5197, 3) (1300, 3)\n"
          ]
        }
      ]
    },
    {
      "cell_type": "code",
      "source": [
        "# 이 다음 train_input, train_target을 다시 넣어 훈련 세트와 검증 세트를 만든다.\n",
        "\n",
        "sub_input, val_input, sub_target, val_target = train_test_split(train_input, train_target, test_size=0.2, random_state=42)"
      ],
      "metadata": {
        "id": "yHt3Me18xrpV"
      },
      "execution_count": 5,
      "outputs": []
    },
    {
      "cell_type": "code",
      "source": [
        "# 단순히 train_test_split 함수를 두 번 적용해서 훈련 세트와 검증 세트로 나눈 것 뿐!\n",
        "print(sub_input.shape, val_input.shape)\n",
        "\n",
        "# 원래 5197개였던 훈련 세트가 4157개로 줄고, 검증세트는 1040개가 됨"
      ],
      "metadata": {
        "colab": {
          "base_uri": "https://localhost:8080/"
        },
        "id": "IOYN_7QNx62a",
        "outputId": "e4632bb4-a2a2-48ed-8b4a-dbca78fd91f6"
      },
      "execution_count": 6,
      "outputs": [
        {
          "output_type": "stream",
          "name": "stdout",
          "text": [
            "(4157, 3) (1040, 3)\n"
          ]
        }
      ]
    },
    {
      "cell_type": "code",
      "source": [
        "# 모델 학습 및 평가\n",
        "from sklearn.tree import DecisionTreeClassifier\n",
        "dt = DecisionTreeClassifier(random_state=42)\n",
        "dt.fit(sub_input,sub_target)\n",
        "\n",
        "# 훈련세트와 검증세트로 점수 평가\n",
        "print(dt.score(sub_input, sub_target))\n",
        "print(dt.score(val_input, val_target))\n",
        "\n",
        "# 훈련 세트에 과대적합 되어있다. 매개변수를 바꾸어 더 좋은 모델을 찾자!"
      ],
      "metadata": {
        "colab": {
          "base_uri": "https://localhost:8080/"
        },
        "id": "O67hiIR9ydRz",
        "outputId": "4ec640d2-ec06-45e8-ff9a-a5efeea535d8"
      },
      "execution_count": 7,
      "outputs": [
        {
          "output_type": "stream",
          "name": "stdout",
          "text": [
            "0.9971133028626413\n",
            "0.864423076923077\n"
          ]
        }
      ]
    },
    {
      "cell_type": "markdown",
      "source": [
        "# 교차검증"
      ],
      "metadata": {
        "id": "m_xC5Wqky40j"
      }
    },
    {
      "cell_type": "code",
      "source": [
        "# 검증 세트를 만드느라 훈련 세트가 줄었다 ㅠ_ㅠ 보통 많은 데이터를 훈련에 사용할수록 좋은 모델이 만들어짐.\n",
        "# 교차 검증은 검증 세트를 떼어 내어 평가하는 과정을 여러 번 반복 -> 이 점수를 평균하여 최종 검증 점수를 얻는다.\n",
        "# ex) k-폴드 교차 검증\n",
        "# 보통 5폴드나 10폴트 교차검증 많이 사용\n",
        "\n",
        "# 사이킷런에서는 cross_validate() 교차 검증 함수 제공\n",
        "# 평가할 모델 객체를 첫 번째 매개변수로 전달한 후\n",
        "# 직접 검증 세트를  떼어 내지 않고 훈련 세트 전체를 cross_validate()함수에 전달\n",
        "\n",
        "from sklearn.model_selection import cross_validate\n",
        "# 검증 세트가 줄어들지만 각 폴드에서 계산한 검증 점수를 평균하기 때문에 안정된 점수라고 여겨진다..??\n",
        "scores = cross_validate(dt, train_input, train_target)\n",
        "# cross_validate 기본값은 5\n",
        "print(scores)"
      ],
      "metadata": {
        "colab": {
          "base_uri": "https://localhost:8080/"
        },
        "id": "c8xYV47Vy58H",
        "outputId": "5ba645c9-1032-4f56-de0c-259b32c9561a"
      },
      "execution_count": 8,
      "outputs": [
        {
          "output_type": "stream",
          "name": "stdout",
          "text": [
            "{'fit_time': array([0.01379514, 0.00986791, 0.01107836, 0.01111364, 0.00956821]), 'score_time': array([0.00166202, 0.00158238, 0.0016551 , 0.00171947, 0.00170064]), 'test_score': array([0.86923077, 0.84615385, 0.87680462, 0.84889317, 0.83541867])}\n"
          ]
        }
      ]
    },
    {
      "cell_type": "code",
      "source": [
        "# 이 함수는 fit_time, score_time, test_score 키를 가진 딕셔너리를 반환\n",
        "#처음 두 키는 각각 모델을 훈련하는 시간과 검증하는 시간을 의미"
      ],
      "metadata": {
        "id": "y5jLII5rzoyb"
      },
      "execution_count": 9,
      "outputs": []
    },
    {
      "cell_type": "code",
      "source": [
        "# 교차 검증의 최종 점수는 평균낼 수 있음\n",
        "\n",
        "import numpy as np\n",
        "print(np.mean(scores['test_score']))"
      ],
      "metadata": {
        "colab": {
          "base_uri": "https://localhost:8080/"
        },
        "id": "efnl6aSMz1vD",
        "outputId": "8eaea1a1-1368-4f26-f57d-49d21d65351f"
      },
      "execution_count": 10,
      "outputs": [
        {
          "output_type": "stream",
          "name": "stdout",
          "text": [
            "0.855300214703487\n"
          ]
        }
      ]
    },
    {
      "cell_type": "code",
      "source": [
        "# cross_validate()는 훈련 세트를 섞어 폴드를 나누지 않는다!\n",
        "# train_test_split()함수로 전체 데이터를 섞은 후 훈련 세트를 준비했기 때문에 따로 섞을 필요가 없었다.\n",
        "# 만약 섞을 필요가 있다면 분할기를 지정해줘야한다.\n",
        "\n",
        "from sklearn.model_selection import StratifiedKFold\n",
        "scores = cross_validate(dt, train_input, train_target, cv=StratifiedKFold())\n",
        "print(np.mean(scores['test_score']))"
      ],
      "metadata": {
        "colab": {
          "base_uri": "https://localhost:8080/"
        },
        "id": "1Od6RtOT0Fql",
        "outputId": "155e1ed2-fbdb-4e39-e45a-4483f9da837a"
      },
      "execution_count": null,
      "outputs": [
        {
          "output_type": "stream",
          "name": "stdout",
          "text": [
            "0.855300214703487\n"
          ]
        }
      ]
    },
    {
      "cell_type": "code",
      "source": [
        "# 만약 훈련 세트를 섞은 후 10-폴드 교차 검증 수행하려면?\n",
        "\n",
        "splitter = StratifiedKFold(n_splits=10,shuffle=True,random_state=42)\n",
        "scores = cross_validate(dt,train_input, train_target, cv=splitter)\n",
        "print(np.mean(scores['test_score']))"
      ],
      "metadata": {
        "colab": {
          "base_uri": "https://localhost:8080/"
        },
        "id": "nYtgQVNu0nSS",
        "outputId": "c39459f5-1a39-4f6c-e729-fb01ae8a79a8"
      },
      "execution_count": null,
      "outputs": [
        {
          "output_type": "stream",
          "name": "stdout",
          "text": [
            "0.8574181117533719\n"
          ]
        }
      ]
    },
    {
      "cell_type": "code",
      "source": [
        "# 결정 트리의 매개변수 값을 바꿔가며 가장 좋은 성능이 나오는 모델을 찾아보자~!\n",
        "# 이 때 테스트 세트를 사용하지 않고 교차 검증을 통해서 좋은 모델을 고르면 된다."
      ],
      "metadata": {
        "id": "1sO9YHEQ1G2d"
      },
      "execution_count": null,
      "outputs": []
    },
    {
      "cell_type": "markdown",
      "source": [
        "# 하이퍼파라미터 튜닝"
      ],
      "metadata": {
        "id": "PGeYvqm01fW7"
      }
    },
    {
      "cell_type": "code",
      "source": [
        ", DecisionTreeRegressor\n",
        "# 하이퍼파라미터란 사용자 지정 파라미터이다.\n",
        "\n",
        "# 하이퍼파라미터 튜닝하는 작업\n",
        "# 먼저 라이브러리가 제공하는 기본값을 그대로 사용해 모델 훈련\n",
        "# 그다음 검증 세트의 점수나 굧 검증을 통해서 매개변수를 조금씩 바꾼다.\n",
        "\n",
        "# 그리드 서치 - 하이퍼파라미터 탐색과 교차 검증을 한 번에 수행\n",
        "# 별도로 cross_validate()함수를 호출할 필요가 없다.\n",
        "\n",
        "from sklearn.model_selection import GridSearchCV\n",
        "params = {'min_impurity_decrease' : [0.0001,0.0002,0.0003,0.0004,0.0005]}\n",
        "gs = GridSearchCV(DecisionTreeClassifier(random_state=42),params,n_jobs=1)\n",
        "\n",
        "gs.fit(train_input,train_target)\n",
        "# 교차 검증에서 하이퍼파라미터를 찾으면 전체 훈련 세트로 모델을 다시 만들어야 한다.\n",
        "# 사이킷런의 그리드 서치는 훈련이 끝나면 25개 모델 중에서 검증 점수가 가장 높은 모델의 매개변수 조합으로\n",
        "# 전체 훈련 세트에서 자동으로 다시 모델을 훈련한다.\n",
        "# 이 모델은 gs 객체의 best_estimtor_ 속성에 저장되어 있다.\n",
        "# 이 모델을 일반 결정 트리처럼 똑같이 사용 가능.\n",
        "\n",
        "dt = gs.best_estimator_\n",
        "print(dt.score(train_input,train_target))\n",
        "# 그리드 서치로 찾은 최적의 매개변수는 best_params_ 속성에 저장되어 있다.\n",
        "print(gs.best_params_)"
      ],
      "metadata": {
        "id": "hbEcEPgn1ltJ",
        "colab": {
          "base_uri": "https://localhost:8080/"
        },
        "outputId": "4b11e9a4-cfba-4ba4-d508-972af99f95cc"
      },
      "execution_count": 14,
      "outputs": [
        {
          "output_type": "stream",
          "name": "stdout",
          "text": [
            "0.9615162593804117\n",
            "{'min_impurity_decrease': 0.0001}\n"
          ]
        }
      ]
    },
    {
      "cell_type": "code",
      "source": [
        "# 5번의 교차 검증으로 얻은 점수\n",
        "print(gs.cv_results_['mean_test_score'])"
      ],
      "metadata": {
        "colab": {
          "base_uri": "https://localhost:8080/"
        },
        "id": "O7sq5pGo-hFs",
        "outputId": "401b92bb-4568-4ba7-b45c-0b5cabe69d37"
      },
      "execution_count": 18,
      "outputs": [
        {
          "output_type": "stream",
          "name": "stdout",
          "text": [
            "[0.86819297 0.86453617 0.86492226 0.86780891 0.86761605]\n"
          ]
        }
      ]
    },
    {
      "cell_type": "code",
      "source": [
        "# 넘파이 argmax()함수를 사용하면 가장 큰 값의 인덱스를 추출할 수 있다.\n",
        "# 그 다음 이 인덱스를 사용해 params 키에 저장된 매개변수를 출력할 수 있다.\n",
        "\n",
        "best_index = np.argmax(gs.cv_results_['mean_test_score'])\n",
        "print(gs.cv_results_['params'][best_index])"
      ],
      "metadata": {
        "colab": {
          "base_uri": "https://localhost:8080/"
        },
        "id": "wdT2vFNs-t9M",
        "outputId": "c33caa54-4947-4ab9-ed12-4b0a2449647f"
      },
      "execution_count": 20,
      "outputs": [
        {
          "output_type": "stream",
          "name": "stdout",
          "text": [
            "{'min_impurity_decrease': 0.0001}\n"
          ]
        }
      ]
    },
    {
      "cell_type": "code",
      "source": [
        "# 이 과정을 정리해보자!!\n",
        "\n",
        "# 1. 먼저 탐색할 매개변수를 지정한다.\n",
        "# 2. 그 다음 훈련 세트에서 그리드 서치를 수행하여 최상의 평균 검증 점수가 나오는 매개변수 조합을 찾는다.\n",
        "#    이 조합은 그리드 서치 객체에 저장된다.\n",
        "# 3. 그리드 서치는 최상의 매개변수에서 (교차 검증에 사용한 훈련 세트가 아니라) 전체 훈련 세트를 사용해 최종 모델을 훈련한다.\n",
        "#    이 모델도 그리드 서치 객체에 저장된다.\n",
        "\n",
        "# 결정 트리에서 min_impurity_decrease는 노드를 분할하기 위한 불순도 감소 최소량을 지정한다.\n",
        "# max_depth로 트리의 깊이를 제한하고 min_samples_split으로 노드를 나누기 위한 최소 샘플 수도 골라보자\n",
        "\n",
        "params = {'min_impurity_decrease' : np.arange(0.0001,0.001,0.0001),\n",
        "          'max_depth' : range(5,20,1),\n",
        "          'min_samples_split' : range(2,100,10)\n",
        "          }\n",
        "\n",
        "gs = GridSearchCV(DecisionTreeClassifier(random_state=42),params, n_jobs=-1)\n",
        "gs.fit(train_input, train_target)\n",
        "print(gs.best_params_)\n",
        "print(np.max(gs.cv_results_['mean_test_score']))\n",
        "\n",
        "# 이해못한 부분 다시 체크하고 진도나가기!"
      ],
      "metadata": {
        "colab": {
          "base_uri": "https://localhost:8080/"
        },
        "id": "RmWGw8j8_F3C",
        "outputId": "3ae159a2-d5d5-4ec7-9e26-b2d2f25e574c"
      },
      "execution_count": 24,
      "outputs": [
        {
          "output_type": "stream",
          "name": "stdout",
          "text": [
            "{'max_depth': 14, 'min_impurity_decrease': 0.0004, 'min_samples_split': 12}\n",
            "0.8683865773302731\n"
          ]
        }
      ]
    },
    {
      "cell_type": "code",
      "source": [],
      "metadata": {
        "id": "OV8tHHTBCgEo"
      },
      "execution_count": null,
      "outputs": []
    }
  ]
}