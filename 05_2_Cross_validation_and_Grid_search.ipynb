{
  "nbformat": 4,
  "nbformat_minor": 0,
  "metadata": {
    "colab": {
      "provenance": [],
      "authorship_tag": "ABX9TyNNCOkbDR2k4vOe0kNn6azL",
      "include_colab_link": true
    },
    "kernelspec": {
      "name": "python3",
      "display_name": "Python 3"
    },
    "language_info": {
      "name": "python"
    }
  },
  "cells": [
    {
      "cell_type": "markdown",
      "metadata": {
        "id": "view-in-github",
        "colab_type": "text"
      },
      "source": [
        "<a href=\"https://colab.research.google.com/github/jxxngho/HG_MLDL/blob/main/05_2_Cross_validation_and_Grid_search.ipynb\" target=\"_parent\"><img src=\"https://colab.research.google.com/assets/colab-badge.svg\" alt=\"Open In Colab\"/></a>"
      ]
    },
    {
      "cell_type": "markdown",
      "source": [
        "# 검증 세트"
      ],
      "metadata": {
        "id": "QmAUtKMgwbf3"
      }
    },
    {
      "cell_type": "code",
      "source": [
        "# 테스트 세트를 사용하지 않으면 모델이 과대적합인지 과소적합인지 판단하기 힘들다.\n",
        "# 테스트 세트를 사용하지 않고 이를 측정하는 간단한 방법은 훈련 세트를 또 나누는 것!\n",
        "# 이를 검증 세트라고 한다.\n",
        "\n",
        "# 훈련 세트에서 모델을 훈련하고 검증 세트로 모델을 평가\n",
        "# 이런 식으로 테스트하고 싶은 매개변수를 바꿔가며 가장 좋은 모델을 고른다\n",
        "# 그다음 이 매개변수를 이용해 훈련 세트와 검증 세트를 합쳐 전체 훈련 데이터에서 모델을 다시 훈련\n",
        "# 그리고 마지막에 테스트 세트에서 최종 점수를 평가한다!!!"
      ],
      "metadata": {
        "id": "wWuxzeuBwtTI"
      },
      "execution_count": 1,
      "outputs": []
    },
    {
      "cell_type": "code",
      "source": [
        "# 데이터 불러오기\n",
        "import pandas as pd\n",
        "wine = pd.read_csv('https://bit.ly/wine_csv_data')\n",
        "wine.head()"
      ],
      "metadata": {
        "colab": {
          "base_uri": "https://localhost:8080/",
          "height": 206
        },
        "id": "6ql3QOIWxIuW",
        "outputId": "40a0b3e6-940c-4ed7-cd5c-f1154ac8d760"
      },
      "execution_count": 2,
      "outputs": [
        {
          "output_type": "execute_result",
          "data": {
            "text/plain": [
              "   alcohol  sugar    pH  class\n",
              "0      9.4    1.9  3.51    0.0\n",
              "1      9.8    2.6  3.20    0.0\n",
              "2      9.8    2.3  3.26    0.0\n",
              "3      9.8    1.9  3.16    0.0\n",
              "4      9.4    1.9  3.51    0.0"
            ],
            "text/html": [
              "\n",
              "\n",
              "  <div id=\"df-d70272be-df03-4baf-8270-4c242c4cb86d\">\n",
              "    <div class=\"colab-df-container\">\n",
              "      <div>\n",
              "<style scoped>\n",
              "    .dataframe tbody tr th:only-of-type {\n",
              "        vertical-align: middle;\n",
              "    }\n",
              "\n",
              "    .dataframe tbody tr th {\n",
              "        vertical-align: top;\n",
              "    }\n",
              "\n",
              "    .dataframe thead th {\n",
              "        text-align: right;\n",
              "    }\n",
              "</style>\n",
              "<table border=\"1\" class=\"dataframe\">\n",
              "  <thead>\n",
              "    <tr style=\"text-align: right;\">\n",
              "      <th></th>\n",
              "      <th>alcohol</th>\n",
              "      <th>sugar</th>\n",
              "      <th>pH</th>\n",
              "      <th>class</th>\n",
              "    </tr>\n",
              "  </thead>\n",
              "  <tbody>\n",
              "    <tr>\n",
              "      <th>0</th>\n",
              "      <td>9.4</td>\n",
              "      <td>1.9</td>\n",
              "      <td>3.51</td>\n",
              "      <td>0.0</td>\n",
              "    </tr>\n",
              "    <tr>\n",
              "      <th>1</th>\n",
              "      <td>9.8</td>\n",
              "      <td>2.6</td>\n",
              "      <td>3.20</td>\n",
              "      <td>0.0</td>\n",
              "    </tr>\n",
              "    <tr>\n",
              "      <th>2</th>\n",
              "      <td>9.8</td>\n",
              "      <td>2.3</td>\n",
              "      <td>3.26</td>\n",
              "      <td>0.0</td>\n",
              "    </tr>\n",
              "    <tr>\n",
              "      <th>3</th>\n",
              "      <td>9.8</td>\n",
              "      <td>1.9</td>\n",
              "      <td>3.16</td>\n",
              "      <td>0.0</td>\n",
              "    </tr>\n",
              "    <tr>\n",
              "      <th>4</th>\n",
              "      <td>9.4</td>\n",
              "      <td>1.9</td>\n",
              "      <td>3.51</td>\n",
              "      <td>0.0</td>\n",
              "    </tr>\n",
              "  </tbody>\n",
              "</table>\n",
              "</div>\n",
              "      <button class=\"colab-df-convert\" onclick=\"convertToInteractive('df-d70272be-df03-4baf-8270-4c242c4cb86d')\"\n",
              "              title=\"Convert this dataframe to an interactive table.\"\n",
              "              style=\"display:none;\">\n",
              "\n",
              "  <svg xmlns=\"http://www.w3.org/2000/svg\" height=\"24px\"viewBox=\"0 0 24 24\"\n",
              "       width=\"24px\">\n",
              "    <path d=\"M0 0h24v24H0V0z\" fill=\"none\"/>\n",
              "    <path d=\"M18.56 5.44l.94 2.06.94-2.06 2.06-.94-2.06-.94-.94-2.06-.94 2.06-2.06.94zm-11 1L8.5 8.5l.94-2.06 2.06-.94-2.06-.94L8.5 2.5l-.94 2.06-2.06.94zm10 10l.94 2.06.94-2.06 2.06-.94-2.06-.94-.94-2.06-.94 2.06-2.06.94z\"/><path d=\"M17.41 7.96l-1.37-1.37c-.4-.4-.92-.59-1.43-.59-.52 0-1.04.2-1.43.59L10.3 9.45l-7.72 7.72c-.78.78-.78 2.05 0 2.83L4 21.41c.39.39.9.59 1.41.59.51 0 1.02-.2 1.41-.59l7.78-7.78 2.81-2.81c.8-.78.8-2.07 0-2.86zM5.41 20L4 18.59l7.72-7.72 1.47 1.35L5.41 20z\"/>\n",
              "  </svg>\n",
              "      </button>\n",
              "\n",
              "\n",
              "\n",
              "    <div id=\"df-9cc24c5f-3bd2-4129-b877-bbdde3844948\">\n",
              "      <button class=\"colab-df-quickchart\" onclick=\"quickchart('df-9cc24c5f-3bd2-4129-b877-bbdde3844948')\"\n",
              "              title=\"Suggest charts.\"\n",
              "              style=\"display:none;\">\n",
              "\n",
              "<svg xmlns=\"http://www.w3.org/2000/svg\" height=\"24px\"viewBox=\"0 0 24 24\"\n",
              "     width=\"24px\">\n",
              "    <g>\n",
              "        <path d=\"M19 3H5c-1.1 0-2 .9-2 2v14c0 1.1.9 2 2 2h14c1.1 0 2-.9 2-2V5c0-1.1-.9-2-2-2zM9 17H7v-7h2v7zm4 0h-2V7h2v10zm4 0h-2v-4h2v4z\"/>\n",
              "    </g>\n",
              "</svg>\n",
              "      </button>\n",
              "    </div>\n",
              "\n",
              "<style>\n",
              "  .colab-df-quickchart {\n",
              "    background-color: #E8F0FE;\n",
              "    border: none;\n",
              "    border-radius: 50%;\n",
              "    cursor: pointer;\n",
              "    display: none;\n",
              "    fill: #1967D2;\n",
              "    height: 32px;\n",
              "    padding: 0 0 0 0;\n",
              "    width: 32px;\n",
              "  }\n",
              "\n",
              "  .colab-df-quickchart:hover {\n",
              "    background-color: #E2EBFA;\n",
              "    box-shadow: 0px 1px 2px rgba(60, 64, 67, 0.3), 0px 1px 3px 1px rgba(60, 64, 67, 0.15);\n",
              "    fill: #174EA6;\n",
              "  }\n",
              "\n",
              "  [theme=dark] .colab-df-quickchart {\n",
              "    background-color: #3B4455;\n",
              "    fill: #D2E3FC;\n",
              "  }\n",
              "\n",
              "  [theme=dark] .colab-df-quickchart:hover {\n",
              "    background-color: #434B5C;\n",
              "    box-shadow: 0px 1px 3px 1px rgba(0, 0, 0, 0.15);\n",
              "    filter: drop-shadow(0px 1px 2px rgba(0, 0, 0, 0.3));\n",
              "    fill: #FFFFFF;\n",
              "  }\n",
              "</style>\n",
              "\n",
              "    <script>\n",
              "      async function quickchart(key) {\n",
              "        const containerElement = document.querySelector('#' + key);\n",
              "        const charts = await google.colab.kernel.invokeFunction(\n",
              "            'suggestCharts', [key], {});\n",
              "      }\n",
              "    </script>\n",
              "\n",
              "      <script>\n",
              "\n",
              "function displayQuickchartButton(domScope) {\n",
              "  let quickchartButtonEl =\n",
              "    domScope.querySelector('#df-9cc24c5f-3bd2-4129-b877-bbdde3844948 button.colab-df-quickchart');\n",
              "  quickchartButtonEl.style.display =\n",
              "    google.colab.kernel.accessAllowed ? 'block' : 'none';\n",
              "}\n",
              "\n",
              "        displayQuickchartButton(document);\n",
              "      </script>\n",
              "      <style>\n",
              "    .colab-df-container {\n",
              "      display:flex;\n",
              "      flex-wrap:wrap;\n",
              "      gap: 12px;\n",
              "    }\n",
              "\n",
              "    .colab-df-convert {\n",
              "      background-color: #E8F0FE;\n",
              "      border: none;\n",
              "      border-radius: 50%;\n",
              "      cursor: pointer;\n",
              "      display: none;\n",
              "      fill: #1967D2;\n",
              "      height: 32px;\n",
              "      padding: 0 0 0 0;\n",
              "      width: 32px;\n",
              "    }\n",
              "\n",
              "    .colab-df-convert:hover {\n",
              "      background-color: #E2EBFA;\n",
              "      box-shadow: 0px 1px 2px rgba(60, 64, 67, 0.3), 0px 1px 3px 1px rgba(60, 64, 67, 0.15);\n",
              "      fill: #174EA6;\n",
              "    }\n",
              "\n",
              "    [theme=dark] .colab-df-convert {\n",
              "      background-color: #3B4455;\n",
              "      fill: #D2E3FC;\n",
              "    }\n",
              "\n",
              "    [theme=dark] .colab-df-convert:hover {\n",
              "      background-color: #434B5C;\n",
              "      box-shadow: 0px 1px 3px 1px rgba(0, 0, 0, 0.15);\n",
              "      filter: drop-shadow(0px 1px 2px rgba(0, 0, 0, 0.3));\n",
              "      fill: #FFFFFF;\n",
              "    }\n",
              "  </style>\n",
              "\n",
              "      <script>\n",
              "        const buttonEl =\n",
              "          document.querySelector('#df-d70272be-df03-4baf-8270-4c242c4cb86d button.colab-df-convert');\n",
              "        buttonEl.style.display =\n",
              "          google.colab.kernel.accessAllowed ? 'block' : 'none';\n",
              "\n",
              "        async function convertToInteractive(key) {\n",
              "          const element = document.querySelector('#df-d70272be-df03-4baf-8270-4c242c4cb86d');\n",
              "          const dataTable =\n",
              "            await google.colab.kernel.invokeFunction('convertToInteractive',\n",
              "                                                     [key], {});\n",
              "          if (!dataTable) return;\n",
              "\n",
              "          const docLinkHtml = 'Like what you see? Visit the ' +\n",
              "            '<a target=\"_blank\" href=https://colab.research.google.com/notebooks/data_table.ipynb>data table notebook</a>'\n",
              "            + ' to learn more about interactive tables.';\n",
              "          element.innerHTML = '';\n",
              "          dataTable['output_type'] = 'display_data';\n",
              "          await google.colab.output.renderOutput(dataTable, element);\n",
              "          const docLink = document.createElement('div');\n",
              "          docLink.innerHTML = docLinkHtml;\n",
              "          element.appendChild(docLink);\n",
              "        }\n",
              "      </script>\n",
              "    </div>\n",
              "  </div>\n"
            ]
          },
          "metadata": {},
          "execution_count": 2
        }
      ]
    },
    {
      "cell_type": "code",
      "source": [
        "data = wine[['alcohol','sugar','pH']].to_numpy()\n",
        "target = wine['class'].to_numpy()"
      ],
      "metadata": {
        "id": "mG3SehjXxO7O"
      },
      "execution_count": 4,
      "outputs": []
    },
    {
      "cell_type": "code",
      "source": [
        "# 훈련 세트와 테스트 세트로 나누기\n",
        "from sklearn.model_selection import train_test_split\n",
        "\n",
        "train_input, test_input, train_target, test_target = train_test_split(data,target, test_size=0.2, random_state=42)\n",
        "\n",
        "print(train_input.shape, test_input.shape)"
      ],
      "metadata": {
        "colab": {
          "base_uri": "https://localhost:8080/"
        },
        "id": "tTtK0UnvxaSd",
        "outputId": "4486b686-6c23-4d5a-995f-28f1f3a75c75"
      },
      "execution_count": 5,
      "outputs": [
        {
          "output_type": "stream",
          "name": "stdout",
          "text": [
            "(5197, 3) (1300, 3)\n"
          ]
        }
      ]
    },
    {
      "cell_type": "code",
      "source": [
        "# 이 다음 train_input, train_target을 다시 넣어 훈련 세트와 검증 세트를 만든다.\n",
        "\n",
        "sub_input, val_input, sub_target, val_target = train_test_split(train_input, train_target, test_size=0.2, random_state=42)"
      ],
      "metadata": {
        "id": "yHt3Me18xrpV"
      },
      "execution_count": 6,
      "outputs": []
    },
    {
      "cell_type": "code",
      "source": [
        "# 단순히 train_test_split 함수를 두 번 적용해서 훈련 세트와 검증 세트로 나눈 것 뿐!\n",
        "print(sub_input.shape, val_input.shape)\n",
        "\n",
        "# 원래 5197개였던 훈련 세트가 4157개로 줄고, 검증세트는 1040개가 됨"
      ],
      "metadata": {
        "colab": {
          "base_uri": "https://localhost:8080/"
        },
        "id": "IOYN_7QNx62a",
        "outputId": "0e2adf5c-8b7e-44c9-c5fb-e47e46fde76d"
      },
      "execution_count": 9,
      "outputs": [
        {
          "output_type": "stream",
          "name": "stdout",
          "text": [
            "(4157, 3) (1040, 3)\n"
          ]
        }
      ]
    },
    {
      "cell_type": "code",
      "source": [
        "# 모델 학습 및 평가\n",
        "from sklearn.tree import DecisionTreeClassifier\n",
        "dt = DecisionTreeClassifier(random_state=42)\n",
        "dt.fit(sub_input,sub_target)\n",
        "\n",
        "# 훈련세트와 검증세트로 점수 평가\n",
        "print(dt.score(sub_input, sub_target))\n",
        "print(dt.score(val_input, val_target))\n",
        "\n",
        "# 훈련 세트에 과대적합 되어있다. 매개변수를 바꾸어 더 좋은 모델을 찾자!"
      ],
      "metadata": {
        "colab": {
          "base_uri": "https://localhost:8080/"
        },
        "id": "O67hiIR9ydRz",
        "outputId": "aefd43a2-2765-4ad8-ace3-581add66def8"
      },
      "execution_count": 10,
      "outputs": [
        {
          "output_type": "stream",
          "name": "stdout",
          "text": [
            "0.9971133028626413\n",
            "0.864423076923077\n"
          ]
        }
      ]
    },
    {
      "cell_type": "markdown",
      "source": [
        "# 교차검증"
      ],
      "metadata": {
        "id": "m_xC5Wqky40j"
      }
    },
    {
      "cell_type": "code",
      "source": [
        "# 검증 세트를 만드느라 훈련 세트가 줄었다 ㅠ_ㅠ 보통 많은 데이터를 훈련에 사용할수록 좋은 모델이 만들어짐.\n",
        "# 교차 검증은 검증 세트를 떼어 내어 평가하는 과정을 여러 번 반복 -> 이 점수를 평균하여 최종 검증 점수를 얻는다.\n",
        "# ex) k-폴드 교차 검증\n",
        "# 보통 5폴드나 10폴트 교차검증 많이 사용\n",
        "\n",
        "# 사이킷런에서는 cross_validate() 교차 검증 함수 제공\n",
        "# 평가할 모델 객체를 첫 번째 매개변수로 전달한 후\n",
        "# 직접 검증 세트를  떼어 내지 않고 훈련 세트 전체를 cross_validate()함수에 전달\n",
        "\n",
        "from sklearn.model_selection import cross_validate\n",
        "# 검증 세트가 줄어들지만 각 폴드에서 계산한 검증 점수를 평균하기 때문에 안정된 점수라고 여겨진다..??\n",
        "scores = cross_validate(dt, train_input, train_target)\n",
        "# cross_validate 기본값은 5\n",
        "print(scores)"
      ],
      "metadata": {
        "colab": {
          "base_uri": "https://localhost:8080/"
        },
        "id": "c8xYV47Vy58H",
        "outputId": "1732dc14-fca0-46a6-e4f4-6d0b43114be8"
      },
      "execution_count": 11,
      "outputs": [
        {
          "output_type": "stream",
          "name": "stdout",
          "text": [
            "{'fit_time': array([0.00900459, 0.00598812, 0.00643086, 0.00610876, 0.00578809]), 'score_time': array([0.00123906, 0.00080466, 0.00081491, 0.00078464, 0.00075436]), 'test_score': array([0.86923077, 0.84615385, 0.87680462, 0.84889317, 0.83541867])}\n"
          ]
        }
      ]
    },
    {
      "cell_type": "code",
      "source": [
        "# 이 함수는 fit_time, score_time, test_score 키를 가진 딕셔너리를 반환\n",
        "#처음 두 키는 각각 모델을 훈련하는 시간과 검증하는 시간을 의미"
      ],
      "metadata": {
        "id": "y5jLII5rzoyb"
      },
      "execution_count": 12,
      "outputs": []
    },
    {
      "cell_type": "code",
      "source": [
        "# 교차 검증의 최종 점수는 평균낼 수 있음\n",
        "\n",
        "import numpy as np\n",
        "print(np.mean(scores['test_score']))"
      ],
      "metadata": {
        "colab": {
          "base_uri": "https://localhost:8080/"
        },
        "id": "efnl6aSMz1vD",
        "outputId": "3756b00f-2bc8-47ed-aa81-76bf6c4cee3f"
      },
      "execution_count": 13,
      "outputs": [
        {
          "output_type": "stream",
          "name": "stdout",
          "text": [
            "0.855300214703487\n"
          ]
        }
      ]
    },
    {
      "cell_type": "code",
      "source": [
        "# cross_validate()는 훈련 세트를 섞어 폴드를 나누지 않는다!\n",
        "# train_test_split()함수로 전체 데이터를 섞은 후 훈련 세트를 준비했기 때문에 따로 섞을 필요가 없었다.\n",
        "# 만약 섞을 필요가 있다면 분할기를 지정해줘야한다.\n",
        "\n",
        "from sklearn.model_selection import StratifiedKFold\n",
        "scores = cross_validate(dt, train_input, train_target, cv=StratifiedKFold())\n",
        "print(np.mean(scores['test_score']))"
      ],
      "metadata": {
        "colab": {
          "base_uri": "https://localhost:8080/"
        },
        "id": "1Od6RtOT0Fql",
        "outputId": "f0b6891f-5bf6-43ef-c5a1-ff03715224f4"
      },
      "execution_count": 15,
      "outputs": [
        {
          "output_type": "stream",
          "name": "stdout",
          "text": [
            "0.855300214703487\n"
          ]
        }
      ]
    },
    {
      "cell_type": "code",
      "source": [
        "# 만약 훈련 세트를 섞은 후 10-폴드 교차 검증 수행하려면?\n",
        "\n",
        "splitter = StratifiedKFold(n_splits=10,shuffle=True,random_state=42)\n",
        "scores = cross_validate(dt,train_input, train_target, cv=splitter)\n",
        "print(np.mean(scores['test_score']))"
      ],
      "metadata": {
        "colab": {
          "base_uri": "https://localhost:8080/"
        },
        "id": "nYtgQVNu0nSS",
        "outputId": "86ca93aa-b302-4a1d-f078-a26b79295bd7"
      },
      "execution_count": 16,
      "outputs": [
        {
          "output_type": "stream",
          "name": "stdout",
          "text": [
            "0.8574181117533719\n"
          ]
        }
      ]
    },
    {
      "cell_type": "code",
      "source": [
        "# 결정 트리의 매개변수 값을 바꿔가며 가장 좋은 성능이 나오는 모델을 찾아보자~!\n",
        "# 이 때 테스트 세트를 사용하지 않고 교차 검증을 통해서 좋은 모델을 고르면 된다."
      ],
      "metadata": {
        "id": "1sO9YHEQ1G2d"
      },
      "execution_count": 18,
      "outputs": []
    },
    {
      "cell_type": "markdown",
      "source": [
        "# 하이퍼파라미터 튜닝"
      ],
      "metadata": {
        "id": "PGeYvqm01fW7"
      }
    },
    {
      "cell_type": "code",
      "source": [
        "# 하이퍼파라미터란 사용자 지정 파라미터이다.\n",
        "\n",
        "# 하이퍼파라미터 튜닝하는 작업\n",
        "# 먼저 라이브러리가 제공하는 기본값을 그대로 사용해 모델 훈련\n",
        "# 그다음 검증 세트의 점수나 교차 검증을 통해서 매개변수를 조금씩 바꾼다.\n",
        "\n",
        "# 그리드 서치 - 하이퍼파라미터 탐색과 교차 검증을 한 번에 수행\n",
        "# 별도로 cross_validate()함수를 호출할 필요가 없다.\n",
        "\n",
        "from sklearn.model_selection import GridSearchCV\n",
        "params = {'min_impurity_decrease' : [0.0001,0.0002,0.0003,0.0004,0.0005]}\n",
        "# min_impurity_decrease : 정보이득, 불순도 차이가 클수록 좋음 -> 분할 잘한 것\n",
        "# ex) 0.1값이면 ,, 0.1도 안되면 분할하지마! 가지치기 하나로 사용할 수 있음.\n",
        "\n",
        "\n",
        "gs = GridSearchCV(DecisionTreeClassifier(random_state=42),params,n_jobs=1)\n",
        "\n",
        "gs.fit(train_input,train_target)\n",
        "# 교차 검증에서 하이퍼파라미터를 찾으면 전체 훈련 세트로 모델을 다시 만들어야 한다.\n",
        "# 사이킷런의 그리드 서치는 훈련이 끝나면 25개 모델 중에서 검증 점수가 가장 높은 모델의 매개변수 조합으로\n",
        "# 전체 훈련 세트에서 자동으로 다시 모델을 훈련한다.\n",
        "# 이 모델은 gs 객체의 best_estimtor_ 속성에 저장되어 있다.\n",
        "# 이 모델을 일반 결정 트리처럼 똑같이 사용 가능.\n",
        "\n",
        "dt = gs.best_estimator_\n",
        "print(dt.score(train_input,train_target))\n",
        "# 그리드 서치로 찾은 최적의 매개변수는 best_params_ 속성에 저장되어 있다.\n",
        "print(gs.best_params_)"
      ],
      "metadata": {
        "id": "hbEcEPgn1ltJ",
        "colab": {
          "base_uri": "https://localhost:8080/"
        },
        "outputId": "13667891-57f3-4a80-8c45-5d913e1dcb18"
      },
      "execution_count": 23,
      "outputs": [
        {
          "output_type": "stream",
          "name": "stdout",
          "text": [
            "0.9615162593804117\n",
            "{'min_impurity_decrease': 0.0001}\n"
          ]
        }
      ]
    },
    {
      "cell_type": "code",
      "source": [
        "# 5번의 교차 검증으로 얻은 점수\n",
        "print(gs.cv_results_['mean_test_score'])"
      ],
      "metadata": {
        "colab": {
          "base_uri": "https://localhost:8080/"
        },
        "id": "O7sq5pGo-hFs",
        "outputId": "446546ce-75e3-4496-c666-e8b39fc3f3b0"
      },
      "execution_count": 24,
      "outputs": [
        {
          "output_type": "stream",
          "name": "stdout",
          "text": [
            "[0.86819297 0.86453617 0.86492226 0.86780891 0.86761605]\n"
          ]
        }
      ]
    },
    {
      "cell_type": "code",
      "source": [
        "# 넘파이 argmax()함수를 사용하면 가장 큰 값의 인덱스를 추출할 수 있다.\n",
        "# 그 다음 이 인덱스를 사용해 params 키에 저장된 매개변수를 출력할 수 있다.\n",
        "\n",
        "best_index = np.argmax(gs.cv_results_['mean_test_score'])\n",
        "print(gs.cv_results_['params'][best_index])"
      ],
      "metadata": {
        "colab": {
          "base_uri": "https://localhost:8080/"
        },
        "id": "wdT2vFNs-t9M",
        "outputId": "2ebce821-c94c-41b2-c3e0-fa63657a5122"
      },
      "execution_count": 21,
      "outputs": [
        {
          "output_type": "stream",
          "name": "stdout",
          "text": [
            "{'min_impurity_decrease': 0.0001}\n"
          ]
        }
      ]
    },
    {
      "cell_type": "code",
      "source": [
        "# 이 과정을 정리해보자!!\n",
        "\n",
        "# 1. 먼저 탐색할 매개변수를 지정한다.\n",
        "# 2. 그 다음 훈련 세트에서 그리드 서치를 수행하여 최상의 평균 검증 점수가 나오는 매개변수 조합을 찾는다.\n",
        "#    이 조합은 그리드 서치 객체에 저장된다.\n",
        "# 3. 그리드 서치는 최상의 매개변수에서 (교차 검증에 사용한 훈련 세트가 아니라) 전체 훈련 세트를 사용해 최종 모델을 훈련한다.\n",
        "#    이 모델도 그리드 서치 객체에 저장된다.\n",
        "\n",
        "# 결정 트리에서 min_impurity_decrease는 노드를 분할하기 위한 불순도 감소 최소량을 지정한다.\n",
        "# max_depth로 트리의 깊이를 제한하고 min_samples_split으로 노드를 나누기 위한 최소 샘플 수도 골라보자\n",
        "\n",
        "params = {'min_impurity_decrease' : np.arange(0.0001,0.001,0.0001),\n",
        "          'max_depth' : range(5,20,1),\n",
        "          'min_samples_split' : range(2,100,10)\n",
        "          }\n",
        "\n",
        "gs = GridSearchCV(DecisionTreeClassifier(random_state=42),params, n_jobs=-1)\n",
        "gs.fit(train_input, train_target)\n",
        "print(gs.best_params_)\n",
        "print(np.max(gs.cv_results_['mean_test_score']))\n",
        "\n",
        "# 이해못한 부분 다시 체크하고 진도나가기!"
      ],
      "metadata": {
        "colab": {
          "base_uri": "https://localhost:8080/"
        },
        "id": "RmWGw8j8_F3C",
        "outputId": "38f9da84-5332-44ee-8a32-cc165b5bb54f"
      },
      "execution_count": 25,
      "outputs": [
        {
          "output_type": "stream",
          "name": "stdout",
          "text": [
            "{'max_depth': 14, 'min_impurity_decrease': 0.0004, 'min_samples_split': 12}\n",
            "0.8683865773302731\n"
          ]
        }
      ]
    },
    {
      "cell_type": "code",
      "source": [
        "# 더 복잡한 모델을 만들어보자!\n",
        "\n",
        "# min_impurity_decrease : 노드를 분할하기 위한 불순도 감소 최소량\n",
        "# max_depth : 트리 깊이 제한\n",
        "# min_samples_split : 노드를 나누기 위한 최소 샘플 수\n",
        "\n",
        "params = {'min_impurity_decrease' : np.arange(0.0001,0.001,0.0001),\n",
        "          'max_depth' : range(5,20,1),\n",
        "          'min_samples_split' : range(2,100,10)\n",
        "          }\n",
        "\n",
        "gs = GridSearchCV(DecisionTreeClassifier(random_state=42),params, n_jobs=-1)\n",
        "gs.fit(train_input,train_target)\n",
        "\n",
        "# 최상의 매개변수 조합 확인\n",
        "print(gs.best_params_)"
      ],
      "metadata": {
        "id": "OV8tHHTBCgEo",
        "colab": {
          "base_uri": "https://localhost:8080/"
        },
        "outputId": "2d789091-858a-4a45-9697-1fca0a1a9131"
      },
      "execution_count": 29,
      "outputs": [
        {
          "output_type": "stream",
          "name": "stdout",
          "text": [
            "{'max_depth': 14, 'min_impurity_decrease': 0.0004, 'min_samples_split': 12}\n"
          ]
        }
      ]
    },
    {
      "cell_type": "code",
      "source": [
        "# 최상의 교차 검증 점수 확인\n",
        "print(np.max(gs.cv_results_['mean_test_score']))"
      ],
      "metadata": {
        "colab": {
          "base_uri": "https://localhost:8080/"
        },
        "id": "xyxUP8jHqYHg",
        "outputId": "3148b0cc-75ab-4b85-de39-0ab9c5e59c28"
      },
      "execution_count": 30,
      "outputs": [
        {
          "output_type": "stream",
          "name": "stdout",
          "text": [
            "0.8683865773302731\n"
          ]
        }
      ]
    },
    {
      "cell_type": "markdown",
      "source": [
        "# 랜덤 서치"
      ],
      "metadata": {
        "id": "vPYI9DiBrBiC"
      }
    },
    {
      "cell_type": "code",
      "source": [
        "# 매개변수의 값이 수치일 때 값의 범위나 간격을 미리 정하기 어려울 수 있다\n",
        "# 또 너무 많은 매개변수 조건이 있어 그리드 서치 수행 시간이 오래 걸릴 수 있다\n",
        "# 이럴 때 랜덤 서치를 사용하면 된다!!\n",
        "\n",
        "# 랜덤 서치는 매개변수 값의 목록을 전달하는 것이 아니라\n",
        "# \"매개변수를 샘플링할 수 있는 확률 분포 객체를 전달\""
      ],
      "metadata": {
        "id": "7tZpWSRtrCtv"
      },
      "execution_count": null,
      "outputs": []
    },
    {
      "cell_type": "code",
      "source": [
        "from scipy.stats import uniform, randint\n",
        "# stats 서브 패키지에 있는 uniform과 randint 클래스는 모든 주어진 범위에서\n",
        "# 고르게 값을 뽑는다. --> '균등 분포에서 샘플링한다'\n",
        "# 0~10 사이의 범위를 갖는 randint 객체를 만들고 10개의 숫자를 샘플링해보자"
      ],
      "metadata": {
        "id": "N6qT27xmrjov"
      },
      "execution_count": 31,
      "outputs": []
    },
    {
      "cell_type": "code",
      "source": [
        "rgen = randint(0,10)\n",
        "rgen.rvs(10)"
      ],
      "metadata": {
        "colab": {
          "base_uri": "https://localhost:8080/"
        },
        "id": "-TA31o3yrvx7",
        "outputId": "608b3532-064d-468f-c78c-78447b201848"
      },
      "execution_count": 34,
      "outputs": [
        {
          "output_type": "execute_result",
          "data": {
            "text/plain": [
              "array([7, 3, 1, 4, 8, 4, 0, 4, 1, 6])"
            ]
          },
          "metadata": {},
          "execution_count": 34
        }
      ]
    },
    {
      "cell_type": "code",
      "source": [
        "# 1000개 샘플링해서 각 숫자의 개수를 세어보기\n",
        "print(np.unique(rgen.rvs(1000),return_counts=True))\n",
        "\n",
        "# 난수 발생기랑 유사하게 생각하면 된다.\n"
      ],
      "metadata": {
        "colab": {
          "base_uri": "https://localhost:8080/"
        },
        "id": "SXF-8RdHr3nM",
        "outputId": "59975cd2-dcf2-4db7-b721-5f4e8f2776a7"
      },
      "execution_count": 37,
      "outputs": [
        {
          "output_type": "stream",
          "name": "stdout",
          "text": [
            "(array([0, 1, 2, 3, 4, 5, 6, 7, 8, 9]), array([100, 101, 111, 101, 103,  96, 106,  87, 101,  94]))\n"
          ]
        }
      ]
    },
    {
      "cell_type": "code",
      "source": [
        "# min_samples_lear 매개변수를 탐색 대상에 추가\n",
        "# 이 매개변수는 리프 노드가 되기 위한 최소 샘플의 개수\n",
        "# 어떤 노드가 분할하여 만들어질 자식 노드의 샘플 수가 이 값보다 작을 경우 분할하지 않음.\n",
        "\n",
        "params = {'min_impurity_decrease' : np.arange(0.0001,0.001),\n",
        "          'max_depth' : range(20,50),\n",
        "          'min_samples_split' : range(2,25),\n",
        "          'min_samples_leaf' : randint(1,25)\n",
        "          }"
      ],
      "metadata": {
        "id": "d9wXAThhshEJ"
      },
      "execution_count": 53,
      "outputs": []
    },
    {
      "cell_type": "code",
      "source": [
        "# 샘플링 횟수는 사이킷런의 랜덤 서치 클래스인 RandomizedSearchCV의 n_iter 매개변수에 지정\n",
        "\n",
        "from sklearn.model_selection import RandomizedSearchCV\n",
        "gs = RandomizedSearchCV(DecisionTreeClassifier(random_state=42),params, n_iter=100,n_jobs=-1,random_state=42)\n",
        "gs.fit(train_input,train_target)\n",
        "\n",
        "# 위 params에 정의된 매개변수 범위에서 총 100번을 샘플링하여 교차 검증을 수행하고 최적의 매개변수 조합을 찾는다.\n",
        "# 앞서 그리드 서치보다 훨씬 교차 검증 수를 줄이면서 넓은 영억으로 탐색 가능!\n",
        "\n",
        "# 최적의 매개변수 조합\n",
        "print(gs.best_params_)\n",
        "\n",
        "# 최고의 교차 검증 점수 확인\n",
        "print(np.max(gs.cv_results_['mean_test_score']))\n",
        "\n",
        "# 최적 모델은 이미 전체 훈련 세트로 훈련되어 best_estimator_ 속성에 저장되어 있음\n",
        "# 이 모델을 최종 모델로 결정하고 테스트 세트의 성능을 확인해보자\n",
        "\n",
        "dt = gs.best_estimator_\n",
        "print(dt.score(test_input, test_target))"
      ],
      "metadata": {
        "colab": {
          "base_uri": "https://localhost:8080/"
        },
        "id": "XFFG8TtVsxKb",
        "outputId": "1750bd5f-0198-4091-bbb0-f8efff96cbeb"
      },
      "execution_count": 54,
      "outputs": [
        {
          "output_type": "stream",
          "name": "stdout",
          "text": [
            "{'max_depth': 31, 'min_impurity_decrease': 0.0001, 'min_samples_leaf': 23, 'min_samples_split': 21}\n",
            "0.8683852817057822\n",
            "0.8576923076923076\n"
          ]
        }
      ]
    }
  ]
}