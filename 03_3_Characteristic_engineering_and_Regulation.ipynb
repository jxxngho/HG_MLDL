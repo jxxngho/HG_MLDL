{
  "nbformat": 4,
  "nbformat_minor": 0,
  "metadata": {
    "colab": {
      "provenance": [],
      "authorship_tag": "ABX9TyPzEgodBDkmYeuW1gGSglS4",
      "include_colab_link": true
    },
    "kernelspec": {
      "name": "python3",
      "display_name": "Python 3"
    },
    "language_info": {
      "name": "python"
    }
  },
  "cells": [
    {
      "cell_type": "markdown",
      "metadata": {
        "id": "view-in-github",
        "colab_type": "text"
      },
      "source": [
        "<a href=\"https://colab.research.google.com/github/jxxngho/HG_MLDL/blob/main/03_3_Characteristic_engineering_and_Regulation.ipynb\" target=\"_parent\"><img src=\"https://colab.research.google.com/assets/colab-badge.svg\" alt=\"Open In Colab\"/></a>"
      ]
    },
    {
      "cell_type": "markdown",
      "source": [
        "# 다중 회귀\n"
      ],
      "metadata": {
        "id": "0NaPoQ9Ld_yd"
      }
    },
    {
      "cell_type": "code",
      "source": [
        "# 다중 회귀 - 여러 개의 특성을 사용한 선형 회귀\n",
        "# 만약 특성이 두 개면 타깃값과 함께 3차원 공간을 형성하고 선형 회귀 방정식 '타깃 = A * 특성1 + B* 특성2 + 절편\n",
        "# 특성 공학 - 기존의 특성을 사용해서 새로운 특성을 뽑아내는 작업"
      ],
      "metadata": {
        "id": "lQ_msK82eA1X"
      },
      "execution_count": null,
      "outputs": []
    },
    {
      "cell_type": "markdown",
      "source": [
        "# 데이터 준비"
      ],
      "metadata": {
        "id": "tLZXK3MjehDm"
      }
    },
    {
      "cell_type": "code",
      "source": [
        "import pandas as pd\n",
        "df = pd.read_csv('https://bit.ly/perch_csv_data')\n",
        "perch_full = df.to_numpy()\n",
        "perch_full"
      ],
      "metadata": {
        "id": "gWHNbqSfeiHS"
      },
      "execution_count": null,
      "outputs": []
    },
    {
      "cell_type": "code",
      "source": [
        "import numpy as np\n",
        "\n",
        "perch_weight = np.array([5.9, 32.0, 40.0, 51.5, 70.0, 100.0, 78.0, 80.0, 85.0, 85.0, 110.0,\n",
        "       115.0, 125.0, 130.0, 120.0, 120.0, 130.0, 135.0, 110.0, 130.0,\n",
        "       150.0, 145.0, 150.0, 170.0, 225.0, 145.0, 188.0, 180.0, 197.0,\n",
        "       218.0, 300.0, 260.0, 265.0, 250.0, 250.0, 300.0, 320.0, 514.0,\n",
        "       556.0, 840.0, 685.0, 700.0, 700.0, 690.0, 900.0, 650.0, 820.0,\n",
        "       850.0, 900.0, 1015.0, 820.0, 1100.0, 1000.0, 1100.0, 1000.0,\n",
        "       1000.0])"
      ],
      "metadata": {
        "id": "sEPMRedNfHdp"
      },
      "execution_count": null,
      "outputs": []
    },
    {
      "cell_type": "code",
      "source": [
        "from sklearn.model_selection import train_test_split\n",
        "train_input, test_input, train_target, test_target = train_test_split(perch_full,perch_weight)"
      ],
      "metadata": {
        "id": "VmHmTd8ufT-Z"
      },
      "execution_count": null,
      "outputs": []
    },
    {
      "cell_type": "markdown",
      "source": [
        "# 사이킷런 변환기"
      ],
      "metadata": {
        "id": "bMK7sCGSfrfK"
      }
    },
    {
      "cell_type": "code",
      "source": [
        "from sklearn.preprocessing import PolynomialFeatures\n",
        "\n",
        "poly = PolynomialFeatures()\n",
        "poly.fit([[2,3]])\n",
        "print(poly.transform([[2,3]]))\n",
        "# fit 메서드는 새롭게 만들 특성 조합을 찾고\n",
        "# transform() 메서더는 실제로 데이터를 변환\n",
        "# 변환기는 입력 데이터를 변환하는데 타깃 데이터가 필요하지 않음"
      ],
      "metadata": {
        "colab": {
          "base_uri": "https://localhost:8080/"
        },
        "id": "CFiR2dk_fs6L",
        "outputId": "50c506c1-403e-4396-fb54-6b3d384f3f23"
      },
      "execution_count": null,
      "outputs": [
        {
          "output_type": "stream",
          "name": "stdout",
          "text": [
            "[[1. 2. 3. 4. 6. 9.]]\n"
          ]
        }
      ]
    },
    {
      "cell_type": "code",
      "source": [
        "poly = PolynomialFeatures(include_bias =False) # 절편 추가 x\n",
        "poly.fit([[2,3]])\n",
        "print(poly.transform([[2,3]]))\n",
        "# 절편을 위한 항이 제거되고 특성의 제곱과 특성끼리 곱한 항만 추가됨"
      ],
      "metadata": {
        "colab": {
          "base_uri": "https://localhost:8080/"
        },
        "id": "Ea-kXYWrgxLc",
        "outputId": "583d6fc9-5748-4a22-a81e-5f5113277d58"
      },
      "execution_count": null,
      "outputs": [
        {
          "output_type": "stream",
          "name": "stdout",
          "text": [
            "[[2. 3. 4. 6. 9.]]\n"
          ]
        }
      ]
    },
    {
      "cell_type": "code",
      "source": [
        "# train_input에 적용\n",
        "poly = PolynomialFeatures(include_bias=False)\n",
        "poly.fit(train_input)\n",
        "train_poly = poly.transform(train_input)\n",
        "print(train_poly.shape)\n",
        "\n",
        "# 9개 특성 조합 확인\n",
        "poly.get_feature_names_out()\n",
        "# x0은 첫번째 특성\n",
        "# x0^2는 첫번째 특성의 제곱\n",
        "# x0 x1은 첫번째 특성과 두 번째 특성의 곱"
      ],
      "metadata": {
        "colab": {
          "base_uri": "https://localhost:8080/"
        },
        "id": "o7EIkuIjhFjT",
        "outputId": "2775093f-1838-47b5-d6e8-da7c40dfb612"
      },
      "execution_count": null,
      "outputs": [
        {
          "output_type": "stream",
          "name": "stdout",
          "text": [
            "(42, 9)\n"
          ]
        },
        {
          "output_type": "execute_result",
          "data": {
            "text/plain": [
              "array(['x0', 'x1', 'x2', 'x0^2', 'x0 x1', 'x0 x2', 'x1^2', 'x1 x2',\n",
              "       'x2^2'], dtype=object)"
            ]
          },
          "metadata": {},
          "execution_count": 19
        }
      ]
    },
    {
      "cell_type": "code",
      "source": [
        "# 테스트 세트로 변환\n",
        "test_poly = poly.transform(test_input)\n",
        "\n",
        "# 훈련 세트를 기준으로 테스트 세트를 변환하는 습관을 들이자!"
      ],
      "metadata": {
        "id": "ySL-ELgXh6yB"
      },
      "execution_count": null,
      "outputs": []
    },
    {
      "cell_type": "markdown",
      "source": [
        "# 다중 회귀 모델 훈련하기"
      ],
      "metadata": {
        "id": "3FONbEkXiEHR"
      }
    },
    {
      "cell_type": "code",
      "source": [
        "# 다중 회귀 모델을 훈련하는 것은 선형 회귀 모델을 훈련하는 것과 같다\n",
        "# 여러 개의 특성을 사용하여 선형 회귀를 사용하는 것!\n",
        "\n",
        "from sklearn.linear_model import LinearRegression\n",
        "lr = LinearRegression()\n",
        "lr.fit(train_poly,train_target)\n",
        "\n",
        "# 훈련 세트 score\n",
        "print(lr.score(train_poly,train_target))\n",
        "\n",
        "# 테스트 세트 score\n",
        "print(lr.score(test_poly, test_target))\n",
        "# 과소적합 문제 해결!"
      ],
      "metadata": {
        "colab": {
          "base_uri": "https://localhost:8080/"
        },
        "id": "ge0OoV4qiH5T",
        "outputId": "e1f5adc3-e489-4dd1-f0fc-e6fbe94e682b"
      },
      "execution_count": null,
      "outputs": [
        {
          "output_type": "stream",
          "name": "stdout",
          "text": [
            "0.988943177595258\n",
            "0.9866990511566965\n"
          ]
        }
      ]
    },
    {
      "cell_type": "code",
      "source": [
        "# PolynomialFeatures 클래스의 degree 매개변수를 사용하여 고차항의 최대 차수 지정 가능\n",
        "\n",
        "poly = PolynomialFeatures(degree=5, include_bias = False)\n",
        "poly.fit(train_input)\n",
        "train_poly = poly.transform(train_input)\n",
        "test_poly =poly.transform(test_input)\n",
        "print(train_poly.shape)\n",
        "# 만들어진 특성 55개!"
      ],
      "metadata": {
        "colab": {
          "base_uri": "https://localhost:8080/"
        },
        "id": "oDE3qtiri5TK",
        "outputId": "b2353331-1c1a-4611-9cd7-6a5ce5836a04"
      },
      "execution_count": null,
      "outputs": [
        {
          "output_type": "stream",
          "name": "stdout",
          "text": [
            "(42, 55)\n"
          ]
        }
      ]
    },
    {
      "cell_type": "code",
      "source": [
        "lr.fit(train_poly,train_target)\n",
        "# score 확인\n",
        "\n",
        "print(lr.score(train_poly,train_target))\n",
        "print(lr.score(test_poly,test_target))\n",
        "\n",
        "# 왜 음수?\n",
        "# 샘플 개수(42)보다 샘플 특성 개수(55)가 많아서 훈련세트에 매~~~우 과대적합된 경우!"
      ],
      "metadata": {
        "colab": {
          "base_uri": "https://localhost:8080/"
        },
        "id": "QBYbP_vOjW_8",
        "outputId": "52953a9b-cdf6-48e6-b3de-5ab1546bb7a8"
      },
      "execution_count": null,
      "outputs": [
        {
          "output_type": "stream",
          "name": "stdout",
          "text": [
            "0.9999999999996866\n",
            "-30.395279490688818\n"
          ]
        }
      ]
    },
    {
      "cell_type": "markdown",
      "source": [
        "# 규제"
      ],
      "metadata": {
        "id": "--ol-nyJj7RW"
      }
    },
    {
      "cell_type": "code",
      "source": [
        "# 머신러닝 모델이 훈련 세트를 너무 과도하게 학습하지 못하도록 훼방하는 것"
      ],
      "metadata": {
        "id": "Vvn2k-XXj8fW"
      },
      "execution_count": null,
      "outputs": []
    }
  ]
}