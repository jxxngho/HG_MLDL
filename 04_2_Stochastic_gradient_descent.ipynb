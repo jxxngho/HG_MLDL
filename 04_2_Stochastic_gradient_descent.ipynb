{
  "nbformat": 4,
  "nbformat_minor": 0,
  "metadata": {
    "colab": {
      "provenance": [],
      "authorship_tag": "ABX9TyOm6wvfPvnCRh0xijR5YYbY",
      "include_colab_link": true
    },
    "kernelspec": {
      "name": "python3",
      "display_name": "Python 3"
    },
    "language_info": {
      "name": "python"
    }
  },
  "cells": [
    {
      "cell_type": "markdown",
      "metadata": {
        "id": "view-in-github",
        "colab_type": "text"
      },
      "source": [
        "<a href=\"https://colab.research.google.com/github/jxxngho/HG_MLDL/blob/main/04_2_Stochastic_gradient_descent.ipynb\" target=\"_parent\"><img src=\"https://colab.research.google.com/assets/colab-badge.svg\" alt=\"Open In Colab\"/></a>"
      ]
    },
    {
      "cell_type": "markdown",
      "source": [
        "# 점진적인 학습"
      ],
      "metadata": {
        "id": "-w5OHohtOr6m"
      }
    },
    {
      "cell_type": "code",
      "source": [
        "# 이전에 훈련한 모델을 버리고 다시 새로운 모델을 훈련하자! 앞서 훈련한 모델을 버리지 않고 새로운 데이터에 대해서만 조금씩 더 훈련하기\n",
        "# 이를 점진적학습 또는 온라인학습이라고 부른다\n",
        "# 대표적인 점진적 학습 알고리즘은 확률적 경사 하강법이 있다."
      ],
      "metadata": {
        "id": "kTncBHGAO20g"
      },
      "execution_count": null,
      "outputs": []
    },
    {
      "cell_type": "code",
      "source": [
        "# 확률적은 '무작위하게' 혹은 '랜덤하게'의 기술적인 표현이다.\n",
        "# 경사 하강법 = 경사를 따라 내려가는 방법\n",
        "\n",
        "# 확률적 경사 하강법 = 훈련 세트에서 랜덤하게 하나의 샘플을 고르는 것\n",
        "# 훈련 세트에서 랜덤하게 하나의 샘플을 선택하여 가파르 경사를 조금 내려간다 그 다음 훈련 세트에서 랜덤하게\n",
        "# 또 다른 샘플을 하나 선택하여 경사를 조금 내려간다.\n",
        "# 이런 식으로 전체 샘플을 모두 사용할 때까지 계속한다.\n",
        "\n",
        "# 샘플을 다 썼는데도 못 구하면?\n",
        "# 다시 처음부터 시작!!  -> 훈련 세트에 모든 샘플을 다시 채워넣음\n",
        "# 훈련 세트를 한 번 모두 사용하는 과정을 \"에포크(epoch)\"라고 부른다.\n",
        "# 미니배치 경사 하강법 - 여러 개의 샘플을 사용해 경사 하강법을 수행하는 방식\n",
        "# 배치 경사 하강법 - 전체 샘플이요"
      ],
      "metadata": {
        "id": "m7LzvfZmPnt0"
      },
      "execution_count": null,
      "outputs": []
    },
    {
      "cell_type": "code",
      "source": [
        "# 손실함수란?\n",
        "# 어떤 문제에서 머신러닝 알고리즘이 얼마나 엉터리인지를 측정하는 기준\n",
        "# 손실함수는 미분 가능해야 한다!"
      ],
      "metadata": {
        "id": "7BijpL34Q_db"
      },
      "execution_count": null,
      "outputs": []
    },
    {
      "cell_type": "code",
      "source": [
        "# 로지스틱 손실 함수\n",
        "# 연속적인 손실 함수 만들어줌."
      ],
      "metadata": {
        "id": "sdAx0sVsRMQt"
      },
      "execution_count": null,
      "outputs": []
    }
  ]
}