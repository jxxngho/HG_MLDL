{
  "nbformat": 4,
  "nbformat_minor": 0,
  "metadata": {
    "colab": {
      "provenance": [],
      "authorship_tag": "ABX9TyPHV2d4IDAFRpmJZZAuS+sJ",
      "include_colab_link": true
    },
    "kernelspec": {
      "name": "python3",
      "display_name": "Python 3"
    },
    "language_info": {
      "name": "python"
    }
  },
  "cells": [
    {
      "cell_type": "markdown",
      "metadata": {
        "id": "view-in-github",
        "colab_type": "text"
      },
      "source": [
        "<a href=\"https://colab.research.google.com/github/jxxngho/HG_MLDL/blob/main/07_2_Deep_Neural_Network.ipynb\" target=\"_parent\"><img src=\"https://colab.research.google.com/assets/colab-badge.svg\" alt=\"Open In Colab\"/></a>"
      ]
    },
    {
      "cell_type": "markdown",
      "source": [
        "# 2개의 층\n"
      ],
      "metadata": {
        "id": "XbjY2VL-lbed"
      }
    },
    {
      "cell_type": "code",
      "source": [
        "# 데이터 불러오기\n",
        "from tensorflow import keras\n",
        "(train_input, train_target), (test_input, test_target) =\\\n",
        "  keras.datasets.fashion_mnist.load_data()"
      ],
      "metadata": {
        "id": "kqiUnQEeleVe"
      },
      "execution_count": null,
      "outputs": []
    },
    {
      "cell_type": "code",
      "source": [
        "# 1절과 코드 똑같음.\n",
        "from sklearn.model_selection import train_test_split\n",
        "train_scaled = train_input / 255.0\n",
        "train_scaled = train_scaled.reshape(-1,28*28)\n",
        "train_scaled, val_scaled, train_target, val_target = train_test_split(\n",
        "    train_scaled, train_target, test_size=0.2, random_state=42)"
      ],
      "metadata": {
        "id": "STc_PcIQlgCc"
      },
      "execution_count": null,
      "outputs": []
    },
    {
      "cell_type": "code",
      "source": [
        "# 은닉층 : 입력층과 출력층 사이에 있는 모든 층"
      ],
      "metadata": {
        "id": "ByGAFNs2mGrn"
      },
      "execution_count": null,
      "outputs": []
    },
    {
      "cell_type": "code",
      "source": [
        "# 책 내용이 너무 이해안되서 4장 복습 후 다시 7장 하는 걸로 ..."
      ],
      "metadata": {
        "id": "EhHR2ycd1M3R"
      },
      "execution_count": null,
      "outputs": []
    }
  ]
}