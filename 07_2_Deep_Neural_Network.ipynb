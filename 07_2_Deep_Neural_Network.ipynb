{
  "nbformat": 4,
  "nbformat_minor": 0,
  "metadata": {
    "colab": {
      "provenance": [],
      "authorship_tag": "ABX9TyPizjfTcikZWWGuj2VQjIKN",
      "include_colab_link": true
    },
    "kernelspec": {
      "name": "python3",
      "display_name": "Python 3"
    },
    "language_info": {
      "name": "python"
    }
  },
  "cells": [
    {
      "cell_type": "markdown",
      "metadata": {
        "id": "view-in-github",
        "colab_type": "text"
      },
      "source": [
        "<a href=\"https://colab.research.google.com/github/jxxngho/HG_MLDL/blob/main/07_2_Deep_Neural_Network.ipynb\" target=\"_parent\"><img src=\"https://colab.research.google.com/assets/colab-badge.svg\" alt=\"Open In Colab\"/></a>"
      ]
    },
    {
      "cell_type": "markdown",
      "source": [
        "# 2개의 층\n"
      ],
      "metadata": {
        "id": "XbjY2VL-lbed"
      }
    },
    {
      "cell_type": "code",
      "source": [
        "# 데이터 불러오기\n",
        "from tensorflow import keras\n",
        "(train_input, train_target), (test_input, test_target) =\\\n",
        "  keras.datasets.fashion_mnist.load_data()"
      ],
      "metadata": {
        "id": "kqiUnQEeleVe",
        "colab": {
          "base_uri": "https://localhost:8080/"
        },
        "outputId": "9fd70255-d081-452c-8a49-21173198fda2"
      },
      "execution_count": 1,
      "outputs": [
        {
          "output_type": "stream",
          "name": "stdout",
          "text": [
            "Downloading data from https://storage.googleapis.com/tensorflow/tf-keras-datasets/train-labels-idx1-ubyte.gz\n",
            "29515/29515 [==============================] - 0s 0us/step\n",
            "Downloading data from https://storage.googleapis.com/tensorflow/tf-keras-datasets/train-images-idx3-ubyte.gz\n",
            "26421880/26421880 [==============================] - 0s 0us/step\n",
            "Downloading data from https://storage.googleapis.com/tensorflow/tf-keras-datasets/t10k-labels-idx1-ubyte.gz\n",
            "5148/5148 [==============================] - 0s 0us/step\n",
            "Downloading data from https://storage.googleapis.com/tensorflow/tf-keras-datasets/t10k-images-idx3-ubyte.gz\n",
            "4422102/4422102 [==============================] - 0s 0us/step\n"
          ]
        }
      ]
    },
    {
      "cell_type": "code",
      "source": [
        "# 1절과 코드 똑같음.\n",
        "from sklearn.model_selection import train_test_split\n",
        "train_scaled = train_input / 255.0\n",
        "train_scaled = train_scaled.reshape(-1,28*28)\n",
        "train_scaled, val_scaled, train_target, val_target = train_test_split(\n",
        "    train_scaled, train_target, test_size=0.2, random_state=42)"
      ],
      "metadata": {
        "id": "STc_PcIQlgCc"
      },
      "execution_count": 2,
      "outputs": []
    },
    {
      "cell_type": "code",
      "source": [
        "# 은닉층 : 입력층과 출력층 사이에 있는 모든 층 / 출력층보다 작은 뉴런을 두면 정보손실이 많다..!\n",
        "# --> 활성화 함수를 거쳐서 비선형함수로 데이터를 변형해서 선형식이 합쳐지지 못하게 만들어야한다.\n",
        "dense1 = keras.layers.Dense(100, activation='sigmoid',input_shape=(784,))\n",
        "dense2 = keras.layers.Dense(10,activation = 'softmax')\n",
        "\n",
        "model = keras.Sequential([dense1,dense2])"
      ],
      "metadata": {
        "id": "ByGAFNs2mGrn"
      },
      "execution_count": 3,
      "outputs": []
    },
    {
      "cell_type": "code",
      "source": [
        "model.summary()\n",
        "# None--> fit()메서드에서 batchsize를 지정할 수 있다.\n",
        "\n",
        "# Param은 각 층에 있는 가중치,절편 등 모델 파라미터의 개수"
      ],
      "metadata": {
        "id": "EhHR2ycd1M3R",
        "colab": {
          "base_uri": "https://localhost:8080/"
        },
        "outputId": "f13c0f95-be4f-4167-875f-f45e6fe67133"
      },
      "execution_count": 4,
      "outputs": [
        {
          "output_type": "stream",
          "name": "stdout",
          "text": [
            "Model: \"sequential\"\n",
            "_________________________________________________________________\n",
            " Layer (type)                Output Shape              Param #   \n",
            "=================================================================\n",
            " dense (Dense)               (None, 100)               78500     \n",
            "                                                                 \n",
            " dense_1 (Dense)             (None, 10)                1010      \n",
            "                                                                 \n",
            "=================================================================\n",
            "Total params: 79510 (310.59 KB)\n",
            "Trainable params: 79510 (310.59 KB)\n",
            "Non-trainable params: 0 (0.00 Byte)\n",
            "_________________________________________________________________\n"
          ]
        }
      ]
    },
    {
      "cell_type": "markdown",
      "source": [
        "# 층을 추가하는 다른 방법"
      ],
      "metadata": {
        "id": "EfjXDM7Dlf7X"
      }
    },
    {
      "cell_type": "code",
      "source": [
        "# dense1 , dense2를 따로 저장하여 쓸 일이 없기 때문에 Sequential 클래스에 바로 전달\n",
        "\n",
        "model = keras.Sequential([\n",
        "    keras.layers.Dense(100, activation='sigmoid',input_shape=(784,),name='hidden'),\n",
        "    keras.layers.Dense(10,activation = 'softmax', name='output')\n",
        "], name='패션 MNIST모델')\n",
        "\n",
        "model.summary()"
      ],
      "metadata": {
        "colab": {
          "base_uri": "https://localhost:8080/"
        },
        "id": "spe7DvjeuYPW",
        "outputId": "ea60bfc6-36b1-46f8-c382-1a0f5ac84d0f"
      },
      "execution_count": 5,
      "outputs": [
        {
          "output_type": "stream",
          "name": "stdout",
          "text": [
            "Model: \"패션 MNIST모델\"\n",
            "_________________________________________________________________\n",
            " Layer (type)                Output Shape              Param #   \n",
            "=================================================================\n",
            " hidden (Dense)              (None, 100)               78500     \n",
            "                                                                 \n",
            " output (Dense)              (None, 10)                1010      \n",
            "                                                                 \n",
            "=================================================================\n",
            "Total params: 79510 (310.59 KB)\n",
            "Trainable params: 79510 (310.59 KB)\n",
            "Non-trainable params: 0 (0.00 Byte)\n",
            "_________________________________________________________________\n"
          ]
        }
      ]
    },
    {
      "cell_type": "code",
      "source": [
        "# 위 방법은 편리하지만 많은 층을 추가하려면 Sequential 클래스 생성자가 매우 길어짐 ...\n",
        "# 그래서 add이용 --> 이걸 가장 많이 이용함.\n",
        "\n",
        "model = keras.Sequential()\n",
        "model.add(keras.layers.Dense(100, activation='sigmoid',input_shape=(784,)))\n",
        "model.add(keras.layers.Dense(1000, activation='sigmoid',input_shape=(784,)))\n",
        "model.add(keras.layers.Dense(10, activation='softmax'))\n",
        "model.summary()"
      ],
      "metadata": {
        "colab": {
          "base_uri": "https://localhost:8080/"
        },
        "id": "cP8Cyb-twwaa",
        "outputId": "63e8d6ae-cab6-42d1-9d72-4f95793ea348"
      },
      "execution_count": 8,
      "outputs": [
        {
          "output_type": "stream",
          "name": "stdout",
          "text": [
            "Model: \"sequential_2\"\n",
            "_________________________________________________________________\n",
            " Layer (type)                Output Shape              Param #   \n",
            "=================================================================\n",
            " dense_4 (Dense)             (None, 100)               78500     \n",
            "                                                                 \n",
            " dense_5 (Dense)             (None, 1000)              101000    \n",
            "                                                                 \n",
            " dense_6 (Dense)             (None, 10)                10010     \n",
            "                                                                 \n",
            "=================================================================\n",
            "Total params: 189510 (740.27 KB)\n",
            "Trainable params: 189510 (740.27 KB)\n",
            "Non-trainable params: 0 (0.00 Byte)\n",
            "_________________________________________________________________\n"
          ]
        }
      ]
    },
    {
      "cell_type": "code",
      "source": [
        "model.compile(loss='sparse_categorical_crossentropy',metrics='accuracy')\n",
        "model.fit(train_scaled, train_target, epochs=5)"
      ],
      "metadata": {
        "colab": {
          "base_uri": "https://localhost:8080/"
        },
        "id": "tMsHF2iDxJQV",
        "outputId": "63593d39-39f0-4907-966d-6b9f10277d37"
      },
      "execution_count": 9,
      "outputs": [
        {
          "output_type": "stream",
          "name": "stdout",
          "text": [
            "Epoch 1/5\n",
            "1500/1500 [==============================] - 9s 6ms/step - loss: 0.6529 - accuracy: 0.7561\n",
            "Epoch 2/5\n",
            "1500/1500 [==============================] - 9s 6ms/step - loss: 0.4389 - accuracy: 0.8402\n",
            "Epoch 3/5\n",
            "1500/1500 [==============================] - 12s 8ms/step - loss: 0.3930 - accuracy: 0.8569\n",
            "Epoch 4/5\n",
            "1500/1500 [==============================] - 12s 8ms/step - loss: 0.3643 - accuracy: 0.8667\n",
            "Epoch 5/5\n",
            "1500/1500 [==============================] - 12s 8ms/step - loss: 0.3443 - accuracy: 0.8738\n"
          ]
        },
        {
          "output_type": "execute_result",
          "data": {
            "text/plain": [
              "<keras.src.callbacks.History at 0x7ba6fc4376d0>"
            ]
          },
          "metadata": {},
          "execution_count": 9
        }
      ]
    },
    {
      "cell_type": "markdown",
      "source": [
        "# 렐루 함수와 Flatten 층\n",
        "\n",
        "- 인공신경망의 발전에 큰 기여를 한 활성화 함수\n",
        "- 시그모이드 함수 단점 : 선형출력층이 너무 커지거나 작아지는 경우 시그모이드 함수값은 매우 작아짐. -> 포화되었다."
      ],
      "metadata": {
        "id": "JAOqnXEKxaQu"
      }
    },
    {
      "cell_type": "code",
      "source": [
        "# 렐루 함수\n",
        "# 음수이면 0 , 양수이면 그냥 입력을 통과\n",
        "model = keras.Sequential()\n",
        "model.add(keras.layers.Flatten(input_shape=(28,28)))\n",
        "model.add(keras.layers.Dense(100,activation='relu'))\n",
        "model.add(keras.layers.Dense(10,activation='softmax'))\n",
        "\n",
        "model.summary()\n",
        "\n",
        "# Flatten이 28 * 28을 1차원배열로 펴주는 역할 / 수동이 아니라 케라스 안에서 알아서 펴줌\n"
      ],
      "metadata": {
        "colab": {
          "base_uri": "https://localhost:8080/"
        },
        "id": "7GlCSSV8x_6k",
        "outputId": "fdc87ff4-91e7-4e68-a3a0-764dae3bc669"
      },
      "execution_count": 11,
      "outputs": [
        {
          "output_type": "stream",
          "name": "stdout",
          "text": [
            "Model: \"sequential_4\"\n",
            "_________________________________________________________________\n",
            " Layer (type)                Output Shape              Param #   \n",
            "=================================================================\n",
            " flatten_1 (Flatten)         (None, 784)               0         \n",
            "                                                                 \n",
            " dense_9 (Dense)             (None, 100)               78500     \n",
            "                                                                 \n",
            " dense_10 (Dense)            (None, 10)                1010      \n",
            "                                                                 \n",
            "=================================================================\n",
            "Total params: 79510 (310.59 KB)\n",
            "Trainable params: 79510 (310.59 KB)\n",
            "Non-trainable params: 0 (0.00 Byte)\n",
            "_________________________________________________________________\n"
          ]
        }
      ]
    },
    {
      "cell_type": "code",
      "source": [
        "  # 서두와 코드 거의 같음. reshape없음.\n",
        "(train_input, train_target), (test_input, test_target) =\\\n",
        "  keras.datasets.fashion_mnist.load_data()\n",
        "train_scaled = train_input / 255.0\n",
        "# train_scaled = train_scaled.reshape(-1,28*28)\n",
        "train_scaled, val_scaled, train_target, val_target = train_test_split(\n",
        "    train_scaled, train_target, test_size=0.2, random_state=42)"
      ],
      "metadata": {
        "id": "fFrIukKlyZQZ"
      },
      "execution_count": 13,
      "outputs": []
    },
    {
      "cell_type": "code",
      "source": [
        "model.compile(loss='sparse_categorical_crossentropy',metrics='accuracy')\n",
        "model.fit(train_scaled, train_target, epochs=5)"
      ],
      "metadata": {
        "colab": {
          "base_uri": "https://localhost:8080/"
        },
        "id": "6r22NgUUzYOq",
        "outputId": "1eb974d8-101c-41ea-a34e-b615366d954b"
      },
      "execution_count": 14,
      "outputs": [
        {
          "output_type": "stream",
          "name": "stdout",
          "text": [
            "Epoch 1/5\n",
            "1500/1500 [==============================] - 6s 4ms/step - loss: 0.5309 - accuracy: 0.8145\n",
            "Epoch 2/5\n",
            "1500/1500 [==============================] - 6s 4ms/step - loss: 0.3957 - accuracy: 0.8577\n",
            "Epoch 3/5\n",
            "1500/1500 [==============================] - 11s 7ms/step - loss: 0.3566 - accuracy: 0.8705\n",
            "Epoch 4/5\n",
            "1500/1500 [==============================] - 5s 3ms/step - loss: 0.3353 - accuracy: 0.8777\n",
            "Epoch 5/5\n",
            "1500/1500 [==============================] - 6s 4ms/step - loss: 0.3195 - accuracy: 0.8863\n"
          ]
        },
        {
          "output_type": "execute_result",
          "data": {
            "text/plain": [
              "<keras.src.callbacks.History at 0x7ba6ff332920>"
            ]
          },
          "metadata": {},
          "execution_count": 14
        }
      ]
    },
    {
      "cell_type": "code",
      "source": [
        "model.evaluate(val_scaled, val_target)"
      ],
      "metadata": {
        "colab": {
          "base_uri": "https://localhost:8080/"
        },
        "id": "2OsRK9ynznDF",
        "outputId": "8f5a4894-8a8e-4101-8bd1-4a2e6df17a5c"
      },
      "execution_count": 15,
      "outputs": [
        {
          "output_type": "stream",
          "name": "stdout",
          "text": [
            "375/375 [==============================] - 1s 2ms/step - loss: 0.4032 - accuracy: 0.8623\n"
          ]
        },
        {
          "output_type": "execute_result",
          "data": {
            "text/plain": [
              "[0.40316590666770935, 0.862333357334137]"
            ]
          },
          "metadata": {},
          "execution_count": 15
        }
      ]
    },
    {
      "cell_type": "markdown",
      "source": [
        "# 옵티마이저"
      ],
      "metadata": {
        "id": "cTugESsQzyOC"
      }
    },
    {
      "cell_type": "code",
      "source": [
        "from keras.src.backend import sparse_categorical_crossentropy\n",
        "# 옵티마이저는 기본적으로 확률적 경사하강법을 사용, sgd\n",
        "\n",
        "# 아담 사용\n",
        "model.compile(optimizer='adam', loss='sparse_categorical_crossentropy',metrics='accuracy')\n",
        "model.fit(train_scaled, train_target, epochs=5)\n",
        "\n",
        "model.evaluate(val_scaled, val_target)"
      ],
      "metadata": {
        "colab": {
          "base_uri": "https://localhost:8080/"
        },
        "id": "L3lqk5JPz35n",
        "outputId": "6d4acd4a-19ed-475f-8af3-57f3f4254e6d"
      },
      "execution_count": 18,
      "outputs": [
        {
          "output_type": "stream",
          "name": "stdout",
          "text": [
            "Epoch 1/5\n",
            "1500/1500 [==============================] - 6s 3ms/step - loss: 0.3006 - accuracy: 0.8902\n",
            "Epoch 2/5\n",
            "1500/1500 [==============================] - 5s 3ms/step - loss: 0.2875 - accuracy: 0.8943\n",
            "Epoch 3/5\n",
            "1500/1500 [==============================] - 6s 4ms/step - loss: 0.2733 - accuracy: 0.8991\n",
            "Epoch 4/5\n",
            "1500/1500 [==============================] - 6s 4ms/step - loss: 0.2622 - accuracy: 0.9026\n",
            "Epoch 5/5\n",
            "1500/1500 [==============================] - 6s 4ms/step - loss: 0.2536 - accuracy: 0.9044\n",
            "375/375 [==============================] - 1s 2ms/step - loss: 0.3334 - accuracy: 0.8823\n"
          ]
        },
        {
          "output_type": "execute_result",
          "data": {
            "text/plain": [
              "[0.33341267704963684, 0.8823333382606506]"
            ]
          },
          "metadata": {},
          "execution_count": 18
        }
      ]
    }
  ]
}