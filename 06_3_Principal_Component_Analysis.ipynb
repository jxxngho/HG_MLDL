{
  "nbformat": 4,
  "nbformat_minor": 0,
  "metadata": {
    "colab": {
      "provenance": [],
      "authorship_tag": "ABX9TyMGPfCdEQK9Oewdl2mshsZe",
      "include_colab_link": true
    },
    "kernelspec": {
      "name": "python3",
      "display_name": "Python 3"
    },
    "language_info": {
      "name": "python"
    }
  },
  "cells": [
    {
      "cell_type": "markdown",
      "metadata": {
        "id": "view-in-github",
        "colab_type": "text"
      },
      "source": [
        "<a href=\"https://colab.research.google.com/github/jxxngho/HG_MLDL/blob/main/06_3_Principal_Component_Analysis.ipynb\" target=\"_parent\"><img src=\"https://colab.research.google.com/assets/colab-badge.svg\" alt=\"Open In Colab\"/></a>"
      ]
    },
    {
      "cell_type": "markdown",
      "source": [
        "# 차원과 차원 축소\n"
      ],
      "metadata": {
        "id": "pOYBmtFcB_jG"
      }
    },
    {
      "cell_type": "code",
      "source": [
        "# 특성 : 데이터가 가진 속성\n",
        "# 과일 사진의 경우 10,000개의 픽셀이 있기 때문에 10,000개의 특성이 있는 것\n",
        "# 이런 특성을 '차원'이라고 부름\n",
        "# 10,000개의 특성은 결국 10,000개의 차원이라는 것 --> 이를 줄이면 저장 공간을 크게 절약할 수 있음."
      ],
      "metadata": {
        "id": "3wOQvrKBCAyX"
      },
      "execution_count": null,
      "outputs": []
    },
    {
      "cell_type": "code",
      "source": [
        "# 다차원 배열에서 차원은 배열의 축 개수\n",
        "# 2차원 배열 차원 : 행 열\n",
        "# 1차원 배열 차원 : 원소의 개수"
      ],
      "metadata": {
        "id": "I5DKbhu6CR1N"
      },
      "execution_count": null,
      "outputs": []
    },
    {
      "cell_type": "markdown",
      "source": [
        "# 주성분 분석 소개"
      ],
      "metadata": {
        "id": "oGQpX_LlEr38"
      }
    },
    {
      "cell_type": "code",
      "source": [
        "# 주성분 분석은 데이터에 있는 분산이 큰 방향을 찾는 것으로 이해\n",
        "# 분산은 데이터가 널리 퍼져있는 정도를 말함\n",
        "# 분산이 큰 방향을 데이터로 잘 표현하는 벡터로 생각"
      ],
      "metadata": {
        "id": "82spjMjHEs38"
      },
      "execution_count": 1,
      "outputs": []
    },
    {
      "cell_type": "code",
      "source": [
        "# 분산이 큰 방향 직선 --> 주성분 벡터(원본 데이터에 있는 어떤 방향)\n",
        "\n",
        "# 주성분 벡터의 원소 개수는 원본 데이터셋에 있는 특성 개수와 같음\n",
        "\n",
        "# 하지만 원본 데이터는 주성분을 사용해 차원을 줄일 수 있음.\n",
        "\n",
        "# 주성분은 원본 차원과 같고 주성분으로 바꾼 데이터는 차원이 줄어든다!! 꼭 기억하기!!!\n",
        "\n",
        "# 주성분이 가장 큰 분산이 큰 방향이기 때문에 주성분에 투영항 바꾼 데이터는 원본이 가지고 있는 특성을 가장 잘 나타냄.\n",
        "\n",
        "# 첫 번째 주성분을 찾은 다음 이 벡터에 수직이고 분산이 가장 큰 다음 방향을 찾는다.\n",
        "# 그 벡터가 두번째 주성분\n",
        "\n",
        "# 여기서는 2차원이기 떄문 두 번째 주성분의 방향은 하나뿐임.\n",
        "\n",
        "# 일반적으로 주성분은 원본 특성의 개수만큼 찾을 수 있다."
      ],
      "metadata": {
        "id": "0Bu_yu1NIGew"
      },
      "execution_count": 2,
      "outputs": []
    },
    {
      "cell_type": "markdown",
      "source": [
        "# PCA클래스"
      ],
      "metadata": {
        "id": "gi1LvU5mJoDt"
      }
    },
    {
      "cell_type": "code",
      "source": [
        "# 데이터셋 다운\n",
        "!wget https://bit.ly/fruits_300 -O fruits_300.npy\n",
        "\n",
        "import numpy as np\n",
        "fruits = np.load('fruits_300.npy')\n",
        "fruits_2d = fruits.reshape(-1,100*100)"
      ],
      "metadata": {
        "colab": {
          "base_uri": "https://localhost:8080/"
        },
        "id": "FV9GaDEAJpZz",
        "outputId": "2fbd6d29-039d-4e1a-bc41-14a8d6d25177"
      },
      "execution_count": 3,
      "outputs": [
        {
          "output_type": "stream",
          "name": "stdout",
          "text": [
            "--2023-08-02 02:50:19--  https://bit.ly/fruits_300\n",
            "Resolving bit.ly (bit.ly)... 67.199.248.11, 67.199.248.10\n",
            "Connecting to bit.ly (bit.ly)|67.199.248.11|:443... connected.\n",
            "HTTP request sent, awaiting response... 301 Moved Permanently\n",
            "Location: https://github.com/rickiepark/hongong-ml/raw/master/fruits_300.npy [following]\n",
            "--2023-08-02 02:50:20--  https://github.com/rickiepark/hongong-ml/raw/master/fruits_300.npy\n",
            "Resolving github.com (github.com)... 140.82.113.3\n",
            "Connecting to github.com (github.com)|140.82.113.3|:443... connected.\n",
            "HTTP request sent, awaiting response... 302 Found\n",
            "Location: https://raw.githubusercontent.com/rickiepark/hongong-ml/master/fruits_300.npy [following]\n",
            "--2023-08-02 02:50:20--  https://raw.githubusercontent.com/rickiepark/hongong-ml/master/fruits_300.npy\n",
            "Resolving raw.githubusercontent.com (raw.githubusercontent.com)... 185.199.108.133, 185.199.109.133, 185.199.110.133, ...\n",
            "Connecting to raw.githubusercontent.com (raw.githubusercontent.com)|185.199.108.133|:443... connected.\n",
            "HTTP request sent, awaiting response... 200 OK\n",
            "Length: 3000128 (2.9M) [application/octet-stream]\n",
            "Saving to: ‘fruits_300.npy’\n",
            "\n",
            "fruits_300.npy      100%[===================>]   2.86M  --.-KB/s    in 0.04s   \n",
            "\n",
            "2023-08-02 02:50:21 (69.1 MB/s) - ‘fruits_300.npy’ saved [3000128/3000128]\n",
            "\n"
          ]
        }
      ]
    },
    {
      "cell_type": "code",
      "source": [
        "# 주성분 분석 알고리즘\n",
        "\n",
        "from sklearn.decomposition import PCA\n",
        "pca = PCA(n_components=50)\n",
        "pca.fit(fruits_2d) # k-평균과 마찬가지로 비지도 학습이라 fit()메서드에 타깃값 제공 x\n",
        "\n",
        "# PCA클래스가 찾은 주성분은 components_ 속성에 저장\n",
        "# 이 배열의 크기 확인\n",
        "\n",
        "print(pca.components_.shape)"
      ],
      "metadata": {
        "colab": {
          "base_uri": "https://localhost:8080/"
        },
        "id": "HU2OrsauJ6bJ",
        "outputId": "4fe25024-71a6-4a2c-a360-fbe55d7f45ac"
      },
      "execution_count": 4,
      "outputs": [
        {
          "output_type": "stream",
          "name": "stdout",
          "text": [
            "(50, 10000)\n"
          ]
        }
      ]
    }
  ]
}